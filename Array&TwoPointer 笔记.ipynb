{
 "cells": [
  {
   "cell_type": "markdown",
   "metadata": {},
   "source": [
    "###### 总结"
   ]
  },
  {
   "cell_type": "markdown",
   "metadata": {},
   "source": [
    "1. 使用多个指针\n",
    "    - 指针方向相反：two sum less than k\n",
    "    - 指针方向相同\n",
    "    - 使用swap的方法： \n",
    "\n",
    "\n",
    "\n",
    "2. 转化成set\n",
    "\n",
    "\n",
    "3. subarray\n",
    "    - 二分法\n",
    "    - store prefix information in hash table\n",
    "    - sliding window\n",
    "   \n",
    "   \n",
    "4. 使用hash map记住index\n",
    "\n",
    "\n",
    "5. slidingn window\n",
    "\n",
    "\n",
    "6. #### interval题目:\n",
    "    - 排序\n",
    "    - greedy\n",
    "    - 扫描线\n",
    "    - DP"
   ]
  },
  {
   "cell_type": "markdown",
   "metadata": {},
   "source": [
    "### 题型分类\n",
    "\n",
    "- #### 先排序再做指针循环\n",
    "    - [3Sum](#15)\n",
    "    - [3Sum Closest](#16)\n",
    "    - [4Sum](#18)\n",
    "    - [3Sum Smaller](#259)\n",
    "    \n",
    "- #### 单指针\n",
    "    - [Maximum Subarray](#53)\n",
    "    - [Monotonic Array](#896)\n",
    "    \n",
    "    - [Increasing Triplet Subsequence](#334)\n",
    "\n",
    "- #### 双指针\n",
    "    - #### 同向\n",
    "    - [Add Strings](#415)\n",
    "    - [Add Binary](#67)\n",
    "    - [Next Permutation](#34)\n",
    "    - [Best Time to Buy and Sell Stock II](#122)\n",
    "    - [Long Pressed Name](#925)\n",
    "    - [Intersection of Two array](#349)\n",
    "    - [Intersection of Three array]()\n",
    "\n",
    "3. 快慢指针\n",
    "19， 141， 142， 234， 457， 287\n",
    "\n",
    "\n",
    "4. 反向指针\n",
    "\n",
    "    - [Two Sum Less Than K](#1099)\n",
    "    - [Valid Palindrom](#125)\n",
    "    - [Valid palindrome II](#680)\n",
    "    - [Squares of a Sorted Array](#977)\n",
    "    - [Reverse String](#344)\n",
    "    - [Reverse Vowels of a String](#345)\n",
    "    - [Sort Colors](#75)\n",
    "    - [Statistics from a large Sample](#1093)\n",
    "    - [Boats to Save People](#881)\n",
    "\n",
    "\n",
    "5. 应用于有序数列\n",
    "977, 360, 532, 881, 167, 15, 16, 259, 923, 18\n",
    "\n",
    "- #### Presum/Prefix Product\n",
    "\n",
    "    - [Maximum Subarray](#53)\n",
    "    - [Subarray Sum Equals K](#560)\n",
    "    - [Subarray Sums Divisible by K](#974)\n",
    "    - [Product of the Last K Numbers](#1352)\n",
    "    \n",
    "- #### two direction\n",
    "\n",
    "    - [Product of Array Except Self](#238)\n",
    "    - [Trapping Rain Water](#42)\n",
    "    \n",
    "- #### swap\n",
    "    - [Rotate Image](#48)\n",
    "    - [Remove Duplicates from Sorted Array](#26)\n",
    "    - [Remove Duplicates from Sorted Array II](#80)\n",
    "    - [Move Zeros](#283)\n",
    "    - [Shortest Word Distance III](#245)\n",
    "    - [Minimum Swap](#670)\n",
    " \n",
    "    \n",
    "- #### Interval(greedy)\n",
    "    - 排序后让可能重叠的interval相邻\n",
    "    - [Merge Intervals](#56)\n",
    "    - [Insert Interval](#57)\n",
    "    - [Meeting Room](#252)\n",
    "    - [Meeting Room II](#253) \n",
    "    - [Non-overlapping Intervals](#435)\n",
    "    - [Find Right Interval](#436)\n",
    "    - [Remove Interval](#1272)\n",
    "    - [Data Stream as Disjoint Intervals](#352)\n",
    "    - [Add Bold Tab in String](#616)\n",
    "    - [Exclusive Time of Functions](#636)\n",
    "    - [Falling Squares](#699)\n",
    "    - [Range Module](#715)\n",
    "    - [Employee Free Time](#759)\n",
    "    - [Interval List Intersections](#986)\n",
    "    \n",
    "- #### Sliding Window\n",
    "    - [Permutation in String](#567)\n",
    "    - [Find All Anagrams in a String](#438)\n",
    "    - [Longest Substring Without Repeating Characters](#3)\n",
    "    - [Longest Substring with At Most K Distinct Characters](#340)\n",
    "    - [Minimum Window Substring](#76)\n",
    "    - [Longest Substring with At Most Two Distinct Characters](#159)\n",
    "    - [Fruit Into Baskets](#504)\n",
    "    - [Replace the Substring for Balanced String](#1234)\n",
    "    - [Grumpy Bookstore Owner](#1052)\n",
    "    - [Max Consecutive Ones III](#1004)\n",
    "    - [Count Number of Nice Subarrys]\n",
    "    - [Replace the Substring for Balaced String]\n",
    "    - [Binary Subarrays with sum]\n",
    "    - [](#424)\n",
    "    - [Maximum Points You Can Obtain from Cards](#1423)\n",
    "    - [Subarrays with k different integers](#992)\n",
    "    - [Shortest subarray with sum at least K]\n",
    "    - [minimum size subarray Sum](#209)\n",
    "    \n",
    "- #### 字符\n",
    "    - [Group shifted Strings](#249)\n",
    "\n",
    "\n",
    "- #### 记录特别的变量\n",
    "    - [Best Time to Buy and Sell Stock](#121)\n",
    "    - [Shortest Unsorted Continuous Subarray](#581)\n",
    "    \n",
    "- #### 三指针\n",
    "    - [Intersection of Three Sorted Arrays](#1214)\n",
    "    \n",
    "- #### 用-1做标记\n",
    "    - [Find All Duplicates in an Array](#442)\n",
    "    - [Find All Numbers Disappeared in an Array](#448)\n",
    "    \n",
    "- #### hashmap\n",
    "    - [Two Sum]()\n",
    "    - [Number of Good Pairs](#1512)\n",
    "    - [Partition Labels](#763)\n",
    "    - [Longest Consecutive Sequence](#128)\n",
    "    - [Group Anagram](#)\n",
    "\n",
    "- #### Monotomic Queue\n",
    "    - [Sliding Window Maximum](#239)\n",
    "\n",
    "- #### Heap\n",
    "    - [Top K frequent Word](#)\n",
    "    - [Task Scheduler](#621)\n",
    "    - [Reorganize String](#767)\n",
    "    - [Minimum Cost to Connect Sticks](#1167)\n",
    "    - [K Closest Points to Origin](#973)\n",
    "    - [Find Median from Data Stream](#295)\n",
    "\n",
    "- #### Greedy\n",
    "    - [Queue Reconstruction by Height](#406)"
   ]
  },
  {
   "cell_type": "markdown",
   "metadata": {},
   "source": [
    "### 易错点"
   ]
  },
  {
   "cell_type": "markdown",
   "metadata": {},
   "source": [
    "### 必备模版技巧\n"
   ]
  },
  {
   "cell_type": "markdown",
   "metadata": {},
   "source": [
    "# 1\n",
    "### Two Sum\n",
    "\n",
    "[Leetcode](https://leetcode.com/problems/two-sum/)\n",
    "- 由于需要输出index，使用hash dict记住index\n",
    "- O（n）\n",
    "\n"
   ]
  },
  {
   "cell_type": "code",
   "execution_count": 1,
   "metadata": {},
   "outputs": [],
   "source": [
    "class Solution(object):\n",
    "    def twoSum(self, nums, target):\n",
    "        \"\"\"\n",
    "        :type nums: List[int]\n",
    "        :type target: int\n",
    "        :rtype: List[int]\n",
    "        \"\"\"\n",
    "        map = {}\n",
    "        for i, v in enumerate(nums):\n",
    "            if v in map.keys(): return [i, map[v]]\n",
    "            map[target-v] = i\n",
    "        return -1"
   ]
  },
  {
   "cell_type": "markdown",
   "metadata": {},
   "source": [
    "# 1099\n",
    "### Two Sum Less Than K\n",
    "[Leetcode](https://leetcode.com/problems/two-sum-less-than-k/)\n",
    "- 使用两个指针 反向缩小区间\n",
    "- O(nlogn)\n"
   ]
  },
  {
   "cell_type": "code",
   "execution_count": 1,
   "metadata": {},
   "outputs": [],
   "source": [
    "class Solution(object):\n",
    "    def twoSumLessThanK(self, A, K):\n",
    "        \"\"\"\n",
    "        :type A: List[int]\n",
    "        :type K: int\n",
    "        :rtype: int\n",
    "        \"\"\"\n",
    "        A.sort()\n",
    "        max_sum = -1\n",
    "        l = 0\n",
    "        r = len(A) - 1\n",
    "        while l < r:\n",
    "            if A[l] + A[r] < K:\n",
    "                max_sum = max(max_sum, A[l] + A[r])\n",
    "                l = l + 1 \n",
    "            else:\n",
    "                r = r - 1\n",
    "        return max_sum"
   ]
  },
  {
   "cell_type": "markdown",
   "metadata": {},
   "source": [
    "# 334\n",
    "### Increasing Triplet Subsequence\n",
    "[Leetcode](https://leetcode.com/problems/increasing-triplet-subsequence/)"
   ]
  },
  {
   "cell_type": "code",
   "execution_count": null,
   "metadata": {},
   "outputs": [],
   "source": [
    "class Solution(object):\n",
    "    def increasingTriplet(self, nums):\n",
    "        \"\"\"\n",
    "        :type nums: List[int]\n",
    "        :rtype: bool\n",
    "        \"\"\"\n",
    "        first = second = float('inf')\n",
    "        for i in nums:\n",
    "            if i <= first:\n",
    "                first = i\n",
    "            elif i <= second:\n",
    "                second = i\n",
    "            else: return True\n",
    "        return False"
   ]
  },
  {
   "cell_type": "markdown",
   "metadata": {},
   "source": [
    "# 15\n",
    "### Three Sum\n",
    "[Leetcode](https://leetcode.com/problems/3sum/)\n",
    "三个指针轮番走\n",
    "注意unique，可以while循环remove 重复值"
   ]
  },
  {
   "cell_type": "code",
   "execution_count": 2,
   "metadata": {},
   "outputs": [],
   "source": [
    "class Solution(object):\n",
    "    def threeSum(self, nums):\n",
    "        \"\"\"\n",
    "        :type nums: List[int]\n",
    "        :rtype: List[List[int]]\n",
    "        \"\"\"\n",
    "        if len(nums) == 0:\n",
    "            return []\n",
    "        \n",
    "        result = []\n",
    "        nums.sort()\n",
    "        \n",
    "        for p in range(len(nums) - 2):\n",
    "            l, r = p + 1, len(nums) - 1\n",
    "            if nums[p] == nums[p-1] and p >= 1: continue\n",
    "            while l < r:\n",
    "                if nums[l] + nums[r] == -nums[p]:\n",
    "                    result.append([nums[p],nums[l],nums[r]])\n",
    "                    while nums[l] == nums[l + 1] and l + 1 < r:\n",
    "                        l += 1\n",
    "                    while nums[r] == nums[r - 1] and r - 1 > l:\n",
    "                        r -= 1\n",
    "                \n",
    "                    l += 1\n",
    "                    r -= 1\n",
    "                \n",
    "                elif nums[l] + nums[r] > -nums[p]:\n",
    "                    r -= 1\n",
    "                else:\n",
    "                    l += 1\n",
    "                \n",
    "                \n",
    "        return result"
   ]
  },
  {
   "cell_type": "markdown",
   "metadata": {},
   "source": [
    "# 16\n",
    "### 3Sum Closest\n",
    "[Leetcode](https://leetcode.com/problems/3sum-closest/m)"
   ]
  },
  {
   "cell_type": "code",
   "execution_count": 11,
   "metadata": {},
   "outputs": [],
   "source": [
    "class Solution(object):\n",
    "    def threeSumClosest(self, nums, target):\n",
    "        \"\"\"\n",
    "        :type nums: List[int]\n",
    "        :type target: int\n",
    "        :rtype: int\n",
    "        \"\"\"\n",
    "        closest = float('inf')\n",
    "        nums = sorted(nums)\n",
    "        for i in range(len(nums) - 2):\n",
    "            l, r = i + 1, len(nums) - 1\n",
    "            while l < r:\n",
    "                new_sum = nums[i] + nums[l] + nums[r]\n",
    "                if abs(new_sum - target) < abs(closest - target):\n",
    "                    closest = new_sum\n",
    "                if new_sum > target:\n",
    "                    r -= 1\n",
    "                elif new_sum < target:\n",
    "                    l += 1\n",
    "                else:\n",
    "                    return new_sum\n",
    "        return closest   "
   ]
  },
  {
   "cell_type": "markdown",
   "metadata": {},
   "source": [
    "# 18\n",
    "### 4 Sum\n",
    "\n",
    "- 注意duplicate的时候 用while移动指针\n",
    "\n",
    "\n",
    "18.\n",
    "https://leetcode.com/problems/4sum/submissions/"
   ]
  },
  {
   "cell_type": "code",
   "execution_count": 19,
   "metadata": {},
   "outputs": [],
   "source": [
    "class Solution(object):\n",
    "    def fourSum(self, nums, target):\n",
    "        \"\"\"\n",
    "        :type nums: List[int]\n",
    "        :type target: int\n",
    "        :rtype: List[List[int]]\n",
    "        \"\"\"\n",
    "        if len(nums) < 4: return []\n",
    "        nums = sorted(nums)\n",
    "        res = []\n",
    "        for i in range(0, len(nums) - 3):\n",
    "            if nums[i] == nums[i - 1] and i > 0: continue\n",
    "            for j in range(i + 1, len(nums) - 2):\n",
    "                if nums[j] == nums[j - 1] and j > i + 1: continue\n",
    "                l, r = j + 1, len(nums) - 1\n",
    "                while l < r:\n",
    "                    new_sum = nums[i] + nums[j] + nums[l] + nums[r]\n",
    "                    if new_sum == target:\n",
    "                        res.append([nums[i], nums[j], nums[l], nums[r]])\n",
    "                        while nums[l] == nums[l + 1] and l + 1 < r: l += 1\n",
    "                        while nums[r] == nums[r - 1] and l < r - 1: r -= 1\n",
    "                        l += 1; r -= 1\n",
    "                    elif new_sum > target: r -= 1\n",
    "                    elif new_sum < target: l += 1\n",
    "        return res\n",
    "                        \n",
    "                \n",
    "                \n",
    "        "
   ]
  },
  {
   "cell_type": "markdown",
   "metadata": {},
   "source": [
    "# 283\n",
    "### Move Zeros\n",
    "[Leetcode](https://leetcode.com/problems/move-zeroes/)\n",
    "- swap的方法，把不要的东西挪到后面去\n",
    "- 两个指针，一个用来标记在它前面都要的东西，一个用来标记需要比较的对象。需要的对象收到第一指针里面去。"
   ]
  },
  {
   "cell_type": "code",
   "execution_count": 4,
   "metadata": {},
   "outputs": [],
   "source": [
    "class Solution(object):\n",
    "    def moveZeroes(self, nums):\n",
    "        \"\"\"\n",
    "        :type nums: List[int]\n",
    "        :rtype: None Do not return anything, modify nums in-place instead.\n",
    "        \"\"\"\n",
    "        zero = 0\n",
    "        for i in range(len(nums)):\n",
    "            if nums[i] != 0:\n",
    "                nums[i], nums[zero] = nums[zero], nums[i]\n",
    "                zero += 1"
   ]
  },
  {
   "cell_type": "markdown",
   "metadata": {},
   "source": [
    "# 259\n",
    "[Leetcode](https://leetcode.com/problems/3sum-smaller/)\n",
    "### 3Sum Smaller"
   ]
  },
  {
   "cell_type": "code",
   "execution_count": null,
   "metadata": {},
   "outputs": [],
   "source": [
    "class Solution(object):\n",
    "    def threeSumSmaller(self, nums, target):\n",
    "        \"\"\"\n",
    "        :type nums: List[int]\n",
    "        :type target: int\n",
    "        :rtype: int\n",
    "        \"\"\"\n",
    "        nums = sorted(nums)\n",
    "        res = 0\n",
    "        for i in range(len(nums) - 2):\n",
    "            l, r = i + 1, len(nums) - 1\n",
    "            while l < r:\n",
    "                if nums[i] + nums[l] + nums[r] < target:\n",
    "                    res += r - l\n",
    "                    l += 1\n",
    "                else:\n",
    "                    r -= 1\n",
    "        return res\n",
    "        "
   ]
  },
  {
   "cell_type": "markdown",
   "metadata": {},
   "source": [
    "# 26\n",
    "### Remove Duplicates from Sorted Array\n",
    "[Leetcode](https://leetcode.com/problems/remove-duplicates-from-sorted-array/)\n",
    "- 两个指针，不断swap"
   ]
  },
  {
   "cell_type": "code",
   "execution_count": 8,
   "metadata": {},
   "outputs": [],
   "source": [
    "class Solution(object):\n",
    "    def swap(self, nums, i, j):\n",
    "        temp = nums[i]\n",
    "        nums[i] = nums[j]\n",
    "        nums[j] = temp\n",
    "        \n",
    "    def removeDuplicates(self, nums):\n",
    "        \"\"\"\n",
    "        :type nums: List[int]\n",
    "        :rtype: int\n",
    "        \"\"\"\n",
    "        \n",
    "        i, j = 0, 0\n",
    "        \n",
    "        while j < len(nums):\n",
    "            if nums[j] > nums[i]:\n",
    "                self.swap(nums,i+1,j)\n",
    "                i += 1\n",
    "                j += 1\n",
    "            else:\n",
    "                j += 1\n",
    "                \n",
    "                \n",
    "        return i + 1\n",
    "        \n",
    "        "
   ]
  },
  {
   "cell_type": "markdown",
   "metadata": {},
   "source": [
    "# 80\n",
    "### Remove Duplicates from Sorted Array II\n",
    "[Leetcode](https://leetcode.com/problems/remove-duplicates-from-sorted-array-ii/)\n"
   ]
  },
  {
   "cell_type": "code",
   "execution_count": null,
   "metadata": {},
   "outputs": [],
   "source": [
    "class Solution(object):\n",
    "    def removeDuplicates(self, nums):\n",
    "        \"\"\"\n",
    "        :type nums: List[int]\n",
    "        :rtype: int\n",
    "        \"\"\"\n",
    "        tail = 0\n",
    "        for num in nums:\n",
    "            if tail < 2 or num != nums[tail - 1] or num != nums[tail - 2]:\n",
    "                nums[tail] = num\n",
    "                tail += 1\n",
    "        return tail"
   ]
  },
  {
   "cell_type": "markdown",
   "metadata": {},
   "source": [
    "# 268\n",
    "\n",
    "### Missing Number\n",
    "[Leetcode](https://leetcode.com/problems/missing-number/)"
   ]
  },
  {
   "cell_type": "code",
   "execution_count": 6,
   "metadata": {},
   "outputs": [],
   "source": [
    "class Solution(object):\n",
    "    def missingNumber(self, nums):\n",
    "        \"\"\"\n",
    "        :type nums: List[int]\n",
    "        :rtype: int\n",
    "        \"\"\"\n",
    "        n = len(nums)\n",
    "        new_set = set(nums)\n",
    "        for i in range(n+1):\n",
    "            if i not in new_set:\n",
    "                return i"
   ]
  },
  {
   "cell_type": "markdown",
   "metadata": {},
   "source": [
    "### Maximum Subarray"
   ]
  },
  {
   "cell_type": "markdown",
   "metadata": {},
   "source": [
    "### Subarray Sum"
   ]
  },
  {
   "cell_type": "markdown",
   "metadata": {},
   "source": [
    "### merge two sorted array\n"
   ]
  },
  {
   "cell_type": "code",
   "execution_count": 9,
   "metadata": {},
   "outputs": [],
   "source": [
    "class Solution(object):\n",
    "    def mergeTwoLists(self, l1, l2):\n",
    "        \"\"\"\n",
    "        :type l1: ListNode\n",
    "        :type l2: ListNode\n",
    "        :rtype: ListNode\n",
    "        \"\"\"\n",
    "        dummy = ListNode(-1)\n",
    "        curr = dummy\n",
    "        while l1 and l2:\n",
    "            if l1.val > l2.val:\n",
    "                curr.next = l2\n",
    "                l2 = l2.next    \n",
    "            else:\n",
    "                curr.next = l1\n",
    "                l1 = l1.next\n",
    "            curr = curr.next\n",
    "            \n",
    "        curr.next = l1 if l1 else l2\n",
    "        \n",
    "        return dummy.next"
   ]
  },
  {
   "cell_type": "markdown",
   "metadata": {},
   "source": [
    "# 349\n",
    "### intersection of two arrays\n",
    "[Leetcode](https://leetcode.com/problems/intersection-of-two-arrays/)"
   ]
  },
  {
   "cell_type": "code",
   "execution_count": null,
   "metadata": {},
   "outputs": [],
   "source": [
    "class Solution(object):\n",
    "    def intersection(self, nums1, nums2):\n",
    "        \"\"\"\n",
    "        :type nums1: List[int]\n",
    "        :type nums2: List[int]\n",
    "        :rtype: List[int]\n",
    "        \"\"\"\n",
    "        res = []\n",
    "        nums1.sort()\n",
    "        nums2.sort()\n",
    "        i, j = 0, 0\n",
    "        while i < len(nums1) and j < len(nums2):\n",
    "            if nums1[i] == nums2[j]:\n",
    "                res.append(nums1[i])\n",
    "                while i + 1 < len(nums1) and nums1[i] == nums1[i + 1]: i += 1\n",
    "                while j + 1 < len(nums2) and nums2[j] == nums2[j + 1]: j += 1\n",
    "                i += 1; j += 1\n",
    "            elif nums1[i] < nums2[j]:\n",
    "                i += 1\n",
    "            else:\n",
    "                j += 1\n",
    "        return res\n",
    "        "
   ]
  },
  {
   "cell_type": "code",
   "execution_count": 9,
   "metadata": {},
   "outputs": [],
   "source": [
    "class Solution:\n",
    "    def intersection(self, nums1, nums2):\n",
    "        nums1 = set(nums1)\n",
    "        res = set()\n",
    "        for i in nums2:\n",
    "            if i in nums1:\n",
    "                res.add(i)\n",
    "                \n",
    "        return res"
   ]
  },
  {
   "cell_type": "markdown",
   "metadata": {},
   "source": [
    "### median of two sorted array"
   ]
  },
  {
   "cell_type": "markdown",
   "metadata": {},
   "source": [
    "### sort list"
   ]
  },
  {
   "cell_type": "markdown",
   "metadata": {},
   "source": [
    "### K-diff Pairs in an Array\n",
    "\n",
    "532\n",
    "https://leetcode.com/problems/k-diff-pairs-in-an-array/"
   ]
  },
  {
   "cell_type": "code",
   "execution_count": 10,
   "metadata": {},
   "outputs": [],
   "source": [
    "class Solution(object):\n",
    "    def findPairs(self, nums, k):\n",
    "        \"\"\"\n",
    "        :type nums: List[int]\n",
    "        :type k: int\n",
    "        :rtype: int\n",
    "        \"\"\"\n",
    "        c = collections.Counter(nums)\n",
    "        res = 0\n",
    "        for i in c:\n",
    "            if k > 0 and i + k in c or k == 0 and c[i] > 1:\n",
    "                res += 1\n",
    "        return res"
   ]
  },
  {
   "cell_type": "markdown",
   "metadata": {},
   "source": [
    "# 57\n",
    "### insert interval\n",
    "[Leetcode](https://leetcode.com/problems/insert-interval/)\n",
    "\n",
    "- 两种做法\n",
    "1. 先把新的interval插入进去，再用和merge interval一样的算法 可以直接调用 O(n)/O(n) \n",
    "2. 找index"
   ]
  },
  {
   "cell_type": "code",
   "execution_count": null,
   "metadata": {},
   "outputs": [],
   "source": [
    "# solution 1\n",
    "class Solution(object):\n",
    "    def insert(self, intervals, newInterval):\n",
    "        \"\"\"\n",
    "        :type intervals: List[List[int]]\n",
    "        :type newInterval: List[int]\n",
    "        :rtype: List[List[int]]\n",
    "        \"\"\"\n",
    "        start, end = newInterval\n",
    "        ind = 0\n",
    "        while ind < len(intervals) and intervals[ind][0] < start:\n",
    "            ind += 1\n",
    "        intervals = intervals[:ind] + [newInterval] + intervals[ind:]\n",
    "        res = [intervals[0]]\n",
    "        for i, j in intervals[1:]:\n",
    "            start, end = res[-1]\n",
    "            if i <= end: res[-1][1] = max(j, end)\n",
    "            else: res.append([i, j])\n",
    "        return res\n",
    "         \n",
    "        \n",
    "        "
   ]
  },
  {
   "cell_type": "code",
   "execution_count": 1,
   "metadata": {},
   "outputs": [],
   "source": [
    "# solution 2\n",
    "class Solution:\n",
    "    def insert(self, intervals, newInterval):\n",
    "        res, n = [], newInterval\n",
    "        for index, i in enumerate(intervals):\n",
    "            if i[1] < n[0]:\n",
    "                res.append(i)\n",
    "            elif n[1] < i[0]:\n",
    "                res.append(n)\n",
    "                return res + intervals[index:]\n",
    "            else:\n",
    "                n[0] = min(n[0],i[0])\n",
    "                n[1] = max(n[1], i[1])\n",
    "        res.append(n)\n",
    "        return res"
   ]
  },
  {
   "cell_type": "markdown",
   "metadata": {},
   "source": [
    "# 435\n",
    "### Non-overlapping Intervals\n",
    "[Leetcode](https://leetcode.com/problems/non-overlapping-intervals/)"
   ]
  },
  {
   "cell_type": "code",
   "execution_count": null,
   "metadata": {},
   "outputs": [],
   "source": [
    "class Solution(object):\n",
    "    def eraseOverlapIntervals(self, intervals):\n",
    "        \"\"\"\n",
    "        :type intervals: List[List[int]]\n",
    "        :rtype: int\n",
    "        \"\"\"\n",
    "        end, cnt = float('-inf'), 0\n",
    "        for s, e in sorted(intervals, key=lambda x: x[1]):\n",
    "            if s >= end: \n",
    "                end = e\n",
    "            else: \n",
    "                cnt += 1\n",
    "\treturn cnt"
   ]
  },
  {
   "cell_type": "markdown",
   "metadata": {},
   "source": [
    "### partition array"
   ]
  },
  {
   "cell_type": "markdown",
   "metadata": {},
   "source": [
    "### Sort letters by oven and even"
   ]
  },
  {
   "cell_type": "markdown",
   "metadata": {},
   "source": [
    "### Sort letters by case"
   ]
  },
  {
   "cell_type": "markdown",
   "metadata": {},
   "source": [
    "# 75\n",
    "### Sort Colors\n",
    "[Leetcode](https://leetcode.com/problems/sort-colors/)"
   ]
  },
  {
   "cell_type": "code",
   "execution_count": 2,
   "metadata": {},
   "outputs": [],
   "source": [
    "class Solution:\n",
    "    def sortColors(self, nums):\n",
    "        \"\"\"\n",
    "        Do not return anything, modify nums in-place instead.\n",
    "        \"\"\"\n",
    "        l, r, i = 0, len(nums) - 1, 0\n",
    "        while i <= r:\n",
    "            print(i)\n",
    "            print(nums)\n",
    "            if nums[i] == 0:\n",
    "                nums[i], nums[l] = nums[l], nums[i]\n",
    "                l += 1\n",
    "                i += 1\n",
    "            elif nums[i] == 1:\n",
    "                i += 1\n",
    "            else:\n",
    "                nums[r], nums[i] = nums[i], nums[r]\n",
    "                r -= 1\n",
    "        return nums"
   ]
  },
  {
   "cell_type": "markdown",
   "metadata": {},
   "source": [
    "### Rainbow Sort"
   ]
  },
  {
   "cell_type": "markdown",
   "metadata": {},
   "source": [
    "### pancake sort"
   ]
  },
  {
   "cell_type": "markdown",
   "metadata": {},
   "source": [
    "# 11\n",
    "### Container with most Water\n",
    "[Leetcode](https://leetcode.com/problems/container-with-most-water/)"
   ]
  },
  {
   "cell_type": "code",
   "execution_count": 3,
   "metadata": {},
   "outputs": [],
   "source": [
    "class Solution:\n",
    "    def maxArea(self, height):\n",
    "        i, j = 0, len(height) - 1\n",
    "        max_area = -float('inf')\n",
    "        while i < j:\n",
    "            max_area = max(max_area, min(height[i], height[j]) * (j - i))\n",
    "            if height[i] > height[j]:\n",
    "                j -= 1\n",
    "            else:\n",
    "                i += 1\n",
    "        return max_area"
   ]
  },
  {
   "cell_type": "markdown",
   "metadata": {},
   "source": [
    "### Merge Sorted Array\n",
    "\n",
    "- 两个指针是从后面开始遍历的\n",
    "- 考虑如果一个走完了，另一个怎么办\n",
    "\n",
    "\n",
    "88\n",
    "https://leetcode.com/problems/merge-sorted-array/"
   ]
  },
  {
   "cell_type": "code",
   "execution_count": 4,
   "metadata": {},
   "outputs": [],
   "source": [
    "class Solution:\n",
    "    def merge(self, nums1, m, nums2, n):\n",
    "        \"\"\"\n",
    "        Do not return anything, modify nums1 in-place instead.\n",
    "        \"\"\"\n",
    "        ind = m + n - 1\n",
    "        while m > 0 and n > 0:\n",
    "            if nums1[m - 1] > nums2[n - 1]:\n",
    "                nums1[ind] = nums1[m - 1]\n",
    "                ind -= 1\n",
    "                m -= 1\n",
    "            else:\n",
    "                nums1[ind] = nums2[n - 1]\n",
    "                ind -= 1\n",
    "                n -= 1\n",
    "        while n > 0:\n",
    "            nums1[ind] = nums2[n - 1]\n",
    "            ind -= 1\n",
    "            n -= 1\n",
    "        while m > 0:\n",
    "            nums1[ind] = nums1[m - 1]\n",
    "            ind -= 1\n",
    "            m -= 1\n",
    "        return nums1"
   ]
  },
  {
   "cell_type": "markdown",
   "metadata": {},
   "source": [
    "# 252\n",
    "\n",
    "[Leetcode](https://leetcode.com/problems/meeting-rooms/)\n",
    "\n",
    "### Meeting Room\n",
    "\n",
    "- 还可以用扫描线算法，使用list作为端点容器然后排序\n"
   ]
  },
  {
   "cell_type": "code",
   "execution_count": 11,
   "metadata": {},
   "outputs": [],
   "source": [
    "# 排序，判断相邻interval是否有重叠\n",
    "# o(nlogn)/o(1)\n",
    "class Solution(object):\n",
    "    def canAttendMeetings(self, intervals):\n",
    "        \"\"\"\n",
    "        :type intervals: List[List[int]]\n",
    "        :rtype: bool\n",
    "        \"\"\"\n",
    "        ls = sorted(intervals, key = lambda x: x[0])\n",
    "        for i,j in zip(ls[:-1], ls[1:]):\n",
    "            if i[1] > j[0]: return False\n",
    "        return True"
   ]
  },
  {
   "cell_type": "markdown",
   "metadata": {},
   "source": [
    "# 253\n",
    "\n",
    "[Leetcode](https://leetcode.com/problems/meeting-rooms-ii/)\n",
    "\n",
    "### Meeting Room II\n",
    "\n",
    "- 贪心算法\n",
    "- 也可用扫描线"
   ]
  },
  {
   "cell_type": "code",
   "execution_count": null,
   "metadata": {},
   "outputs": [],
   "source": [
    "class Solution:\n",
    "    def minMeetingRooms(self, intervals: List[List[int]]) -> int:\n",
    "        start, end = [], []\n",
    "        for i, j in intervals:\n",
    "            start.append(i)\n",
    "            end.append(j)\n",
    "        start = sorted(start)\n",
    "        end = sorted(end)\n",
    "        j = 0\n",
    "        count = 0\n",
    "        for i in range(len(intervals)):\n",
    "            print(count)\n",
    "            count += 1\n",
    "            if start[i] >= end[j]:\n",
    "                j += 1\n",
    "                count -= 1\n",
    "        return count\n",
    "                "
   ]
  },
  {
   "cell_type": "markdown",
   "metadata": {},
   "source": [
    "# 56\n",
    "\n",
    "[Leetcode](https://leetcode.com/problems/merge-intervals/)\n",
    "\n",
    "### Merge Intervals"
   ]
  },
  {
   "cell_type": "code",
   "execution_count": null,
   "metadata": {},
   "outputs": [],
   "source": [
    "class Solution(object):\n",
    "    def merge(self, intervals):\n",
    "        \"\"\"\n",
    "        :type intervals: List[List[int]]\n",
    "        :rtype: List[List[int]]\n",
    "        \"\"\"\n",
    "        if not intervals: return []\n",
    "        intervals = sorted(intervals, key = lambda x: x[0])\n",
    "        res = [intervals[0]]\n",
    "        for i in intervals[1:]:\n",
    "            end = res[-1][1]\n",
    "            if i[0] <= end: res[-1][1] = max(i[1], end)\n",
    "            else: res.append(i)\n",
    "        return res"
   ]
  },
  {
   "cell_type": "markdown",
   "metadata": {},
   "source": [
    "# 986\n",
    "\n",
    "### Interval List Intersections\n",
    "[Leetcode](https://leetcode.com/problems/interval-list-intersections/)"
   ]
  },
  {
   "cell_type": "code",
   "execution_count": 7,
   "metadata": {},
   "outputs": [],
   "source": [
    "class Solution:\n",
    "    def intervalIntersection(self, A, B):\n",
    "        res = []\n",
    "        i, j = 0, 0\n",
    "        while i < len(A) and j < len(B):\n",
    "            s1, e1, s2, e2 = A[i][0], A[i][1], B[j][0], B[j][1]\n",
    "            if e2 < s1: \n",
    "                j += 1\n",
    "            elif e1 < s2: \n",
    "                i += 1\n",
    "            else:\n",
    "                start = max(s1, s2)\n",
    "                end = min(e1,e2)\n",
    "                res.append([start, end])\n",
    "                if e1 > e2: \n",
    "                    j += 1\n",
    "                else:\n",
    "                    i += 1\n",
    "        return res"
   ]
  },
  {
   "cell_type": "markdown",
   "metadata": {},
   "source": [
    "# 1272\n",
    "### Remove Interval\n",
    "[Leetcode](https://leetcode.com/problems/remove-interval/)"
   ]
  },
  {
   "cell_type": "code",
   "execution_count": null,
   "metadata": {},
   "outputs": [],
   "source": [
    "class Solution(object):\n",
    "    def removeInterval(self, intervals, toBeRemoved):\n",
    "        \"\"\"\n",
    "        :type intervals: List[List[int]]\n",
    "        :type toBeRemoved: List[int]\n",
    "        :rtype: List[List[int]]\n",
    "        \"\"\"\n",
    "        res = []\n",
    "        x, y = toBeRemoved\n",
    "        for i, j in intervals:\n",
    "            if j <= x or y <= i: res.append([i, j])\n",
    "            else:\n",
    "                if i < x: res.append([i, x])\n",
    "                if j > y: res.append([y, j])\n",
    "        return res\n",
    "            "
   ]
  },
  {
   "cell_type": "markdown",
   "metadata": {},
   "source": [
    "### Minimum Size Subarray Sum\n",
    "\n",
    "- sliding window\n",
    "\n",
    "209\n",
    "https://leetcode.com/problems/minimum-size-subarray-sum/"
   ]
  },
  {
   "cell_type": "code",
   "execution_count": 14,
   "metadata": {},
   "outputs": [],
   "source": [
    "class Solution:\n",
    "    def minSubArrayLen(self, s, nums):\n",
    "        left = total = 0\n",
    "        min_res = float('inf')\n",
    "        for right, value in enumerate(nums):\n",
    "            total += value\n",
    "            while total >= s and left <= right:\n",
    "                min_res = min(min_res, right - left + 1)\n",
    "                total -= nums[left]\n",
    "                left += 1\n",
    "        return min_res if min_res <= len(nums) else 0"
   ]
  },
  {
   "cell_type": "markdown",
   "metadata": {},
   "source": [
    "# 647\n",
    "### Palindromic Substrings  \n",
    "\n",
    "- 以index为中心往左右散开test是不是palindromic\n",
    "\n",
    "[Leetcode](https://leetcode.com/problems/palindromic-substrings/)\n"
   ]
  },
  {
   "cell_type": "code",
   "execution_count": 16,
   "metadata": {},
   "outputs": [],
   "source": [
    "class Solution(object):\n",
    "    def countSubstrings(self, s):\n",
    "        \"\"\"\n",
    "        :type s: str\n",
    "        :rtype: int\n",
    "        \"\"\"\n",
    "        res = 0\n",
    "        for i in range(len(s)):\n",
    "            res += self.Palindrom(s, i, i)\n",
    "            if i + 1 < len(s) : res += self.Palindrom(s, i, i + 1)\n",
    "        return res\n",
    "   \n",
    "    \n",
    "    def Palindrom(self, s, start, end):\n",
    "        count = 0\n",
    "        while 0 <= start and end < len(s):\n",
    "            if s[start] == s[end]: \n",
    "                count += 1\n",
    "                start -= 1\n",
    "                end += 1\n",
    "            else: break\n",
    "        return count\n",
    "\n",
    "        "
   ]
  },
  {
   "cell_type": "markdown",
   "metadata": {},
   "source": [
    "### Longest Palindromic Substring\n",
    "\n",
    "5.\n",
    "https://leetcode.com/problems/longest-palindromic-substring/"
   ]
  },
  {
   "cell_type": "code",
   "execution_count": 18,
   "metadata": {},
   "outputs": [],
   "source": [
    "class Solution(object):\n",
    "    def longestPalindrome(self, s):\n",
    "        \"\"\"\n",
    "        :type s: str\n",
    "        :rtype: str\n",
    "        \"\"\"\n",
    "        res = ''\n",
    "        for i in range(len(s)):\n",
    "            res = self.helper(s, res, i, i)\n",
    "            res = self.helper(s, res, i, i + 1)\n",
    "        return res\n",
    "    \n",
    "    \n",
    "    \n",
    "    \n",
    "    def helper(self, s, res, start, end):\n",
    "        while 0 <= start and end < len(s):\n",
    "            if s[start] == s[end]:\n",
    "                if len(s[start: end + 1]) > len(res):\n",
    "                    res = s[start:end + 1]\n",
    "                start -= 1\n",
    "                end += 1\n",
    "            else: break\n",
    "        return res\n",
    "        "
   ]
  },
  {
   "cell_type": "markdown",
   "metadata": {},
   "source": [
    "# 53\n",
    "\n",
    "[leetcode](https://leetcode.com/problems/maximum-subarray/)\n",
    "\n",
    "### Maximum Subarray\n",
    "- presum"
   ]
  },
  {
   "cell_type": "code",
   "execution_count": 1,
   "metadata": {},
   "outputs": [],
   "source": [
    "class Solution(object):\n",
    "    def maxSubArray(self, nums):\n",
    "        \"\"\"\n",
    "        :type nums: List[int]\n",
    "        :rtype: int\n",
    "        \"\"\"\n",
    "        curSum = maxSum = nums[0]\n",
    "        for num in nums[1:]:\n",
    "            curSum = max(curSum + num, num)\n",
    "            maxSum = max(maxSum, curSum)\n",
    "        return maxSum"
   ]
  },
  {
   "cell_type": "markdown",
   "metadata": {},
   "source": [
    "# 560\n",
    "\n",
    "[Leetcode](https://leetcode.com/problems/subarray-sum-equals-k/)\n",
    "\n",
    "### Subarray Sum Equals K\n",
    "- presum = hashmap"
   ]
  },
  {
   "cell_type": "code",
   "execution_count": 2,
   "metadata": {},
   "outputs": [],
   "source": [
    "class Solution(object):\n",
    "    def subarraySum(self, nums, k):\n",
    "        \"\"\"\n",
    "        :type nums: List[int]\n",
    "        :type k: int\n",
    "        :rtype: int\n",
    "        \"\"\"\n",
    "        count = 0\n",
    "        sums = 0\n",
    "        d = dict()\n",
    "        d[0] = 1\n",
    "        \n",
    "        for i in range(len(nums)):\n",
    "            sums += nums[i]\n",
    "            count += d.get(sums-k,0)\n",
    "            d[sums] = d.get(sums,0) + 1\n",
    "        \n",
    "        return(count)"
   ]
  },
  {
   "cell_type": "markdown",
   "metadata": {},
   "source": [
    "# 974\n",
    "\n",
    "[Leetcode](https://leetcode.com/problems/subarray-sums-divisible-by-k/)\n",
    "\n",
    "### Subarray Sums Divisible by K\n",
    "\n",
    "- presum + hashmap"
   ]
  },
  {
   "cell_type": "code",
   "execution_count": 3,
   "metadata": {},
   "outputs": [],
   "source": [
    "class Solution(object):\n",
    "    def subarraysDivByK(self, A, K):\n",
    "        \"\"\"\n",
    "        :type A: List[int]\n",
    "        :type K: int\n",
    "        :rtype: int\n",
    "        \"\"\"\n",
    "        d = {0:1}\n",
    "        sum, count = 0, 0\n",
    "        for i in range(len(A)):\n",
    "            sum = (sum + A[i]) % K\n",
    "            count += d.get(sum, 0)\n",
    "            d[sum] = d.get(sum, 0) + 1\n",
    "        return count"
   ]
  },
  {
   "cell_type": "markdown",
   "metadata": {},
   "source": [
    "# 238\n",
    "\n",
    "[Leetcode](https://leetcode.com/problems/product-of-array-except-self/)\n",
    "\n",
    "### Product of Array Except Self\n"
   ]
  },
  {
   "cell_type": "code",
   "execution_count": 4,
   "metadata": {},
   "outputs": [],
   "source": [
    "class Solution(object):\n",
    "    def productExceptSelf(self, nums):\n",
    "        \"\"\"\n",
    "        :type nums: List[int]\n",
    "        :rtype: List[int]\n",
    "        \"\"\"\n",
    "        res = []\n",
    "        left = 1\n",
    "        for i in range(len(nums)):\n",
    "            res.append(left)\n",
    "            left *= nums[i]\n",
    "        right = 1\n",
    "        for j in range(len(nums) - 1, -1, -1):\n",
    "            res[j] = res[j] * right\n",
    "            right *= nums[j]\n",
    "        return res"
   ]
  },
  {
   "cell_type": "markdown",
   "metadata": {},
   "source": [
    "# 42\n",
    "\n",
    "[Leetcode](https://leetcode.com/problems/trapping-rain-water/)\n",
    "\n",
    "### Trapping Rain Water\n",
    "\n",
    "以最高点为中点，两个方向向中间移动"
   ]
  },
  {
   "cell_type": "code",
   "execution_count": 2,
   "metadata": {},
   "outputs": [],
   "source": [
    "# O(n)\n",
    "class Solution(object):\n",
    "    def trap(self, height):\n",
    "        \"\"\"\n",
    "        :type height: List[int]\n",
    "        :rtype: int\n",
    "        \"\"\"\n",
    "        if not height: return 0\n",
    "        left, right = [], []\n",
    "        lmax, rmax = height[0], height[-1]\n",
    "        for i in range(len(height)):\n",
    "            lmax = max(height[i], lmax)\n",
    "            left.append(lmax)\n",
    "        for i in range(len(height) - 1, -1, -1):\n",
    "            rmax = max(height[i], rmax)\n",
    "            right = [rmax] + right\n",
    "        \n",
    "        res = 0\n",
    "        for i, j, k in zip(left, right, height):\n",
    "            res += min(i,j) - k\n",
    "        return res   "
   ]
  },
  {
   "cell_type": "code",
   "execution_count": 3,
   "metadata": {},
   "outputs": [],
   "source": [
    "# O(1)\n",
    "class Solution(object):\n",
    "    def trap(self, height):\n",
    "        \"\"\"\n",
    "        :type height: List[int]\n",
    "        :rtype: int\n",
    "        \"\"\"\n",
    "        if not height: return 0\n",
    "        highest_index = height.index(max(height))\n",
    "        lmax = height[0]\n",
    "        rmax = height[-1]\n",
    "        res = 0\n",
    "        for i in range(0, highest_index):\n",
    "            lmax = max(lmax, height[i])\n",
    "            res += min(lmax, height[highest_index]) - height[i]\n",
    "        for i in range(len(height) - 1, highest_index, -1):\n",
    "            rmax = max(rmax, height[i])\n",
    "            res += min(rmax, height[highest_index]) - height[i]\n",
    "\n",
    "        return res   "
   ]
  },
  {
   "cell_type": "markdown",
   "metadata": {},
   "source": [
    "# 48\n",
    "\n",
    "[Leetcode](https://leetcode.com/problems/rotate-image/)\n",
    "\n",
    "### Rotate Image\n",
    "\n"
   ]
  },
  {
   "cell_type": "code",
   "execution_count": 4,
   "metadata": {},
   "outputs": [],
   "source": [
    "class Solution(object):\n",
    "    def rotate(self, matrix):\n",
    "        \"\"\"\n",
    "        :type matrix: List[List[int]]\n",
    "        :rtype: None Do not return anything, modify matrix in-place instead.\n",
    "        \"\"\"\n",
    "        n = len(matrix)\n",
    "        for i in range(n/2):\n",
    "            for j in range(n):\n",
    "                matrix[i][j], matrix[n-i-1][j] = matrix[n-i-1][j], matrix[i][j]\n",
    "        for i in range(n):\n",
    "            for j in range(n):\n",
    "                if j < i: matrix[j][i], matrix[i][j] = matrix[i][j], matrix[j][i]\n",
    "        return matrix"
   ]
  },
  {
   "cell_type": "markdown",
   "metadata": {},
   "source": [
    "# 415\n",
    "\n",
    "[Leetcode](https://leetcode.com/problems/add-strings/)\n",
    "\n",
    "### Add Strings"
   ]
  },
  {
   "cell_type": "code",
   "execution_count": 5,
   "metadata": {},
   "outputs": [],
   "source": [
    "class Solution(object):\n",
    "    def addStrings(self, num1, num2):\n",
    "        \"\"\"\n",
    "        :type num1: str\n",
    "        :type num2: str\n",
    "        :rtype: str\n",
    "        \"\"\"\n",
    "        res = ''\n",
    "        sum, reminder = 0, 0\n",
    "        i, j = len(num1) - 1, len(num2) - 1\n",
    "        while 0 <= i or 0 <= j or reminder != 0:\n",
    "            n1 = n2 = 0\n",
    "            if i >= 0: n1 = int(num1[i])\n",
    "            if j >= 0: n2 = int(num2[j])\n",
    "            sum = n1 + n2 + reminder\n",
    "            reminder = sum / 10\n",
    "            res = str(sum % 10) + res\n",
    "            i -= 1\n",
    "            j -= 1\n",
    "        return res"
   ]
  },
  {
   "cell_type": "markdown",
   "metadata": {},
   "source": [
    "# 67\n",
    "\n",
    "[Leetcode](https://leetcode.com/problems/add-binary/)\n",
    "\n",
    "### Add Binary"
   ]
  },
  {
   "cell_type": "code",
   "execution_count": 6,
   "metadata": {},
   "outputs": [],
   "source": [
    "class Solution(object):\n",
    "    def addBinary(self, a, b):\n",
    "        \"\"\"\n",
    "        :type a: str\n",
    "        :type b: str\n",
    "        :rtype: str\n",
    "        \"\"\"\n",
    "        i, j = len(a) - 1, len(b) - 1\n",
    "        res = ''\n",
    "        reminder = 0\n",
    "        while i >= 0 and j >= 0:\n",
    "            sum = int(a[i]) + int(b[j]) + reminder\n",
    "            val = sum % 2\n",
    "            reminder = sum // 2\n",
    "            res = str(val) + res\n",
    "            i -= 1\n",
    "            j -= 1\n",
    "        if j >= 0:\n",
    "            a = b\n",
    "            i = j\n",
    "        while i >= 0:\n",
    "            sum = reminder + int(a[i])\n",
    "            val = sum % 2\n",
    "            reminder = sum // 2\n",
    "            res = str(val) + res\n",
    "            i -= 1\n",
    "        if reminder != 0:\n",
    "            res = str(reminder) + res\n",
    "        return res"
   ]
  },
  {
   "cell_type": "markdown",
   "metadata": {},
   "source": [
    "# 953\n",
    "\n",
    "[Leetcode](https://leetcode.com/problems/verifying-an-alien-dictionary/)\n",
    "\n",
    "### Verifying an Alien Dictionary"
   ]
  },
  {
   "cell_type": "code",
   "execution_count": 7,
   "metadata": {},
   "outputs": [],
   "source": [
    "class Solution(object):\n",
    "    def isAlienSorted(self, words, order):\n",
    "        \"\"\"\n",
    "        :type words: List[str]\n",
    "        :type order: str\n",
    "        :rtype: bool\n",
    "        \"\"\"\n",
    "        d = {v: ind for ind, v in enumerate(order)}\n",
    "        for a, b in zip(words, words[1:]):\n",
    "            ind = 0\n",
    "            while ind < len(a) and ind < len(b):\n",
    "                if d[a[ind]] > d[b[ind]]: return False\n",
    "                elif d[a[ind]] < d[b[ind]]: break\n",
    "                ind += 1\n",
    "            if ind < len(a) and ind >= len(b): return False\n",
    "        return True\n",
    "                "
   ]
  },
  {
   "cell_type": "markdown",
   "metadata": {},
   "source": [
    "# 31\n",
    "[Leetcode](https://leetcode.com/problems/next-permutation/)\n",
    "\n",
    "### Next Permutation"
   ]
  },
  {
   "cell_type": "code",
   "execution_count": 8,
   "metadata": {},
   "outputs": [],
   "source": [
    "class Solution(object):\n",
    "    def nextPermutation(self, nums):\n",
    "        i = j = len(nums)-1\n",
    "        while i > 0 and nums[i-1] >= nums[i]:\n",
    "            i -= 1\n",
    "        if i == 0:   \n",
    "            nums.reverse()\n",
    "            return \n",
    "        k = i - 1  \n",
    "        while nums[j] <= nums[k]:\n",
    "            j -= 1\n",
    "        nums[k], nums[j] = nums[j], nums[k]  \n",
    "        l, r = k+1, len(nums)-1 \n",
    "        while l < r:\n",
    "            nums[l], nums[r] = nums[r], nums[l]\n",
    "            l +=1 ; r -= 1\n",
    "        return nums"
   ]
  },
  {
   "cell_type": "markdown",
   "metadata": {},
   "source": [
    "# 54\n",
    "[Leetcode](https://leetcode.com/problems/spiral-matrix/)\n",
    "\n",
    "### Spiral Matrix"
   ]
  },
  {
   "cell_type": "code",
   "execution_count": 1,
   "metadata": {},
   "outputs": [],
   "source": [
    "class Solution(object):\n",
    "    def spiralOrder(self, matrix):\n",
    "        \"\"\"\n",
    "        :type matrix: List[List[int]]\n",
    "        :rtype: List[int]\n",
    "        \"\"\"\n",
    "        res = []\n",
    "        while matrix:\n",
    "            res.extend(matrix.pop(0))\n",
    "            if matrix:\n",
    "                for i in range(len(matrix)):\n",
    "                    if matrix[i]:\n",
    "                        res.append(matrix[i].pop())\n",
    "                        \n",
    "            if matrix:\n",
    "                res.extend(matrix.pop()[::-1])\n",
    "            if matrix:\n",
    "                for i in range(len(matrix)-1, -1, -1):\n",
    "                    if matrix[i]:\n",
    "                        res.append(matrix[i].pop(0))\n",
    "                        \n",
    "        return res"
   ]
  },
  {
   "cell_type": "code",
   "execution_count": 17,
   "metadata": {},
   "outputs": [],
   "source": [
    "# two pointer\n",
    "class Solution(object):\n",
    "    def spiralOrder(self, matrix):\n",
    "        \"\"\"\n",
    "        :type matrix: List[List[int]]\n",
    "        :rtype: List[int]\n",
    "        \"\"\"\n",
    "        row_s, row_e, col_s, col_e = 0, len(matrix) - 1, 0, len(matrix[0]) - 1\n",
    "        res = []\n",
    "        while len(res) != len(matrix) * len(matrix[0]):\n",
    "            for i in range(col_s, col_e + 1):\n",
    "                res.append(matrix[row_s][i])\n",
    "            row_s += 1\n",
    "            for i in range(row_s, row_e + 1):\n",
    "                res.append(matrix[i][col_e])\n",
    "            col_e -= 1 \n",
    "            if len(res) == len(matrix) * len(matrix[0]): break\n",
    "            for i in range(col_e, col_s - 1, -1):\n",
    "                res.append(matrix[row_e][i])\n",
    "            row_e -= 1    \n",
    "            for i in range(row_e, row_s -1, -1):\n",
    "                res.append(matrix[i][col_s])\n",
    "            col_s += 1  \n",
    "        return res\n",
    "            "
   ]
  },
  {
   "cell_type": "markdown",
   "metadata": {},
   "source": [
    "# 121\n",
    "\n",
    "[Leetcode](https://leetcode.com/problems/best-time-to-buy-and-sell-stock/)\n",
    "\n",
    "\n",
    "### Best Time to Buy and Sell Stock\n",
    "\n",
    "\n",
    "\n",
    "- 记录要存储的变量， 能够使得他成为o（N）解法"
   ]
  },
  {
   "cell_type": "code",
   "execution_count": 2,
   "metadata": {},
   "outputs": [],
   "source": [
    "class Solution(object):\n",
    "    def maxProfit(self, prices):\n",
    "        \"\"\"\n",
    "        :type prices: List[int]\n",
    "        :rtype: int\n",
    "        \"\"\"\n",
    "        res = 0\n",
    "        min_price = float('inf')\n",
    "        for price in prices:\n",
    "            min_price = min(min_price, price)\n",
    "            res = max(price - min_price, res)\n",
    "        return res"
   ]
  },
  {
   "cell_type": "markdown",
   "metadata": {},
   "source": [
    "# 443\n",
    "### String Compression\n",
    "[Leetcode](https://leetcode.com/problems/string-compression/)"
   ]
  },
  {
   "cell_type": "code",
   "execution_count": 2,
   "metadata": {},
   "outputs": [],
   "source": [
    "class Solution(object):\n",
    "    def compress(self, chars):\n",
    "        \"\"\"\n",
    "        :type chars: List[str]\n",
    "        :rtype: int\n",
    "        \"\"\"\n",
    "        st = i = 0\n",
    "        while i < len(chars):\n",
    "            while i < len(chars) and chars[i] == chars[st]:\n",
    "                i += 1\n",
    "            if i - st == 1:\n",
    "                st = i\n",
    "            else:\n",
    "                print(chars)\n",
    "                chars[st + 1 : i] = str(i - st)\n",
    "                print(chars)\n",
    "                st = st + 2\n",
    "                i = st"
   ]
  },
  {
   "cell_type": "markdown",
   "metadata": {},
   "source": [
    "# 122\n",
    "[Leetcode](https://leetcode.com/problems/best-time-to-buy-and-sell-stock-ii/)\n",
    "\n",
    "### Best Time to Buy and Sell Stock II\n",
    "-双指针"
   ]
  },
  {
   "cell_type": "code",
   "execution_count": 3,
   "metadata": {},
   "outputs": [],
   "source": [
    "class Solution(object):\n",
    "    def maxProfit(self, prices):\n",
    "        \"\"\"\n",
    "        :type prices: List[int]\n",
    "        :rtype: int\n",
    "        \"\"\"\n",
    "        i = j = 0\n",
    "        res = 0\n",
    "        while i < len(prices) and j < len(prices):\n",
    "            if j == 0 or prices[j - 1] <= prices[j]:\n",
    "                j += 1\n",
    "            else:\n",
    "                res += prices[j - 1] - prices[i]\n",
    "                i = j\n",
    "                j += 1\n",
    "        res += prices[j - 1] - prices[i] if prices[j - 1] > prices[i] else 0\n",
    "        return res"
   ]
  },
  {
   "cell_type": "markdown",
   "metadata": {},
   "source": [
    "# 350\n",
    "\n",
    "[Leetcode](https://leetcode.com/problems/intersection-of-two-arrays-ii/)\n",
    "### Intersection of Two Arrays II"
   ]
  },
  {
   "cell_type": "code",
   "execution_count": 1,
   "metadata": {},
   "outputs": [],
   "source": [
    "class Solution(object):\n",
    "    def intersect(self, nums1, nums2):\n",
    "        \"\"\"\n",
    "        :type nums1: List[int]\n",
    "        :type nums2: List[int]\n",
    "        :rtype: List[int]\n",
    "        \"\"\"\n",
    "        n1, n2 = sorted(nums1), sorted(nums2)\n",
    "        i = j = 0\n",
    "        res = []\n",
    "        while i < len(n1) and j < len(n2):\n",
    "            if n1[i] < n2[j]:\n",
    "                i += 1\n",
    "            elif n1[i] > n2[j]:\n",
    "                j += 1\n",
    "            else:\n",
    "                res.append(n1[i])\n",
    "                i += 1\n",
    "                j += 1\n",
    "        return res"
   ]
  },
  {
   "cell_type": "markdown",
   "metadata": {},
   "source": [
    "# 567\n",
    "[Leetcode](https://leetcode.com/problems/permutation-in-string/)\n",
    "\n",
    "### Permutation in String"
   ]
  },
  {
   "cell_type": "code",
   "execution_count": 2,
   "metadata": {},
   "outputs": [],
   "source": [
    "class Solution(object):\n",
    "    def checkInclusion(self, s1, s2):\n",
    "        \"\"\"\n",
    "        :type s1: str\n",
    "        :type s2: str\n",
    "        :rtype: bool\n",
    "        \"\"\"\n",
    "        map = {}\n",
    "        for i in s1:\n",
    "            map[i] = map.get(i, 0) + 1\n",
    "        count = len(s1)\n",
    "        left = right = 0\n",
    "        while right < len(s2):\n",
    "            map[s2[right]] = map.get(s2[right], 0) - 1\n",
    "            if map[s2[right]] >= 0: count -= 1\n",
    "            right += 1\n",
    "            while count == 0:\n",
    "                if count == 0 and right - left == len(s1): return True\n",
    "                map[s2[left]] += 1\n",
    "                if map[s2[left]] >= 1: count += 1\n",
    "                left += 1\n",
    "        return False"
   ]
  },
  {
   "cell_type": "code",
   "execution_count": 8,
   "metadata": {},
   "outputs": [],
   "source": [
    "class Solution(object):\n",
    "    def checkInclusion(self, s1, s2):\n",
    "        \"\"\"\n",
    "        :type s1: str\n",
    "        :type s2: str\n",
    "        :rtype: bool\n",
    "        \"\"\"\n",
    "        from collections import Counter\n",
    "        d1 = Counter(s1)\n",
    "        d2 = {}\n",
    "        i = j = 0\n",
    "        while j < len(s2): \n",
    "            num = s2[j]\n",
    "            d2[num] = d2.get(num, 0) + 1\n",
    "            if j - i + 1 == len(s1):\n",
    "                if d2 == d1: return True\n",
    "                d2[s2[i]] -= 1\n",
    "                if d2[s2[i]] == 0: del d2[s2[i]]\n",
    "                i += 1\n",
    "            j += 1\n",
    "        return False"
   ]
  },
  {
   "cell_type": "markdown",
   "metadata": {},
   "source": [
    "# 438\n",
    "[Leetcode](https://leetcode.com/problems/find-all-anagrams-in-a-string/)\n",
    "\n",
    "### Find All Anagrams in a String"
   ]
  },
  {
   "cell_type": "code",
   "execution_count": 3,
   "metadata": {},
   "outputs": [],
   "source": [
    "class Solution(object):\n",
    "    def findAnagrams(self, s, p):\n",
    "        \"\"\"\n",
    "        :type s: str\n",
    "        :type p: str\n",
    "        :rtype: List[int]\n",
    "        \"\"\"\n",
    "        map = {}\n",
    "        for i in p:\n",
    "            map[i] = map.get(i, 0) + 1\n",
    "        count = len(p)\n",
    "        i = j = 0\n",
    "        res = []\n",
    "        while j < len(s):\n",
    "            map[s[j]] = map.get(s[j], 0) - 1\n",
    "            if map[s[j]] >= 0: count -= 1\n",
    "            j += 1\n",
    "            while count == 0:\n",
    "                if count == 0 and len(p) == j - i: \n",
    "                    res.append(i)\n",
    "                map[s[i]] = map[s[i]] + 1\n",
    "                if map[s[i]] >= 1: count += 1\n",
    "                i += 1        \n",
    "        return res"
   ]
  },
  {
   "cell_type": "code",
   "execution_count": 9,
   "metadata": {},
   "outputs": [],
   "source": [
    "class Solution(object):\n",
    "    def findAnagrams(self, s, p):\n",
    "        \"\"\"\n",
    "        :type s: str\n",
    "        :type p: str\n",
    "        :rtype: List[int]\n",
    "        \"\"\"\n",
    "        from collections import Counter\n",
    "        d1 = Counter(p)\n",
    "        d2 = {}\n",
    "        i = j = 0\n",
    "        length = 0\n",
    "        res = []\n",
    "        while j < len(s):\n",
    "            ch = s[j]\n",
    "            d2[ch] = d2.get(ch, 0) + 1\n",
    "            length += 1\n",
    "            if length == len(p):\n",
    "                if d2 == d1: res.append(i)\n",
    "                d2[s[i]] -= 1\n",
    "                if d2[s[i]] == 0: del d2[s[i]]\n",
    "                i += 1\n",
    "                length -= 1\n",
    "            j += 1\n",
    "        return res"
   ]
  },
  {
   "cell_type": "markdown",
   "metadata": {},
   "source": [
    "# 3\n",
    "[Leetcode](https://leetcode.com/problems/longest-substring-without-repeating-characters/)\n",
    "\n",
    "### Longest Substring Without Repeating Characters"
   ]
  },
  {
   "cell_type": "code",
   "execution_count": 4,
   "metadata": {},
   "outputs": [],
   "source": [
    "class Solution(object):\n",
    "    def lengthOfLongestSubstring(self, s):\n",
    "        \"\"\"\n",
    "        :type s: str\n",
    "        :rtype: int\n",
    "        \"\"\"\n",
    "        map = {}\n",
    "        i = j = 0\n",
    "        count = 0\n",
    "        res = 0\n",
    "        while j < len(s):\n",
    "            map[s[j]] = map.get(s[j], 0) + 1\n",
    "            if map[s[j]] > 1: count += 1\n",
    "            j += 1\n",
    "            if count == 0: res = max(res, j - i)\n",
    "            while count > 0:\n",
    "                map[s[i]] -= 1\n",
    "                if map[s[i]] == 1: count -= 1\n",
    "                i += 1\n",
    "        return res"
   ]
  },
  {
   "cell_type": "markdown",
   "metadata": {},
   "source": [
    "# 340\n",
    "\n",
    "[Leetcode](https://leetcode.com/problems/longest-substring-with-at-most-k-distinct-characters/)\n",
    "### Longest Substring with At Most K Distinct Characters"
   ]
  },
  {
   "cell_type": "code",
   "execution_count": 5,
   "metadata": {},
   "outputs": [],
   "source": [
    "class Solution(object):\n",
    "    def lengthOfLongestSubstringKDistinct(self, s, k):\n",
    "        \"\"\"\n",
    "        :type s: str\n",
    "        :type k: int\n",
    "        :rtype: int\n",
    "        \"\"\"\n",
    "        map = {}\n",
    "        count = 0\n",
    "        i = j = 0\n",
    "        res = 0\n",
    "        while j < len(s):\n",
    "            map[s[j]] = map.get(s[j], 0) + 1\n",
    "            if map[s[j]] == 1: count += 1\n",
    "            j += 1\n",
    "            if count <= k: res = max(res, j - i)\n",
    "            while count > k:\n",
    "                map[s[i]] -= 1\n",
    "                if map[s[i]] == 0: count -= 1\n",
    "                i += 1\n",
    "        return res"
   ]
  },
  {
   "cell_type": "markdown",
   "metadata": {},
   "source": [
    "# 1151\n",
    "### Minimum Swaps to Group All 1's Together\n",
    "[Leetcode](https://leetcode.com/problems/minimum-swaps-to-group-all-1s-together/)"
   ]
  },
  {
   "cell_type": "code",
   "execution_count": null,
   "metadata": {},
   "outputs": [],
   "source": [
    "class Solution(object):\n",
    "    def minSwaps(self, data):\n",
    "        \"\"\"\n",
    "        :type data: List[int]\n",
    "        :rtype: int\n",
    "        \"\"\"\n",
    "        cnt1 = sum(data)\n",
    "        i = j = 0\n",
    "        total1 = 0\n",
    "        res = len(data)\n",
    "        while j < len(data):\n",
    "            if data[j] == 1:\n",
    "                total1 += 1\n",
    "                cnt1 -= 1\n",
    "            j += 1\n",
    "            while i < j and (j-i-total1) > cnt1:\n",
    "                if data[i] == 1: \n",
    "                    total1 -= 1\n",
    "                    cnt1 += 1\n",
    "                i += 1\n",
    "            if j - i - total1 == cnt1: res = min(res, j - i - total1)\n",
    "        return res\n",
    "            \n",
    "        "
   ]
  },
  {
   "cell_type": "markdown",
   "metadata": {},
   "source": [
    "# 76\n",
    "[Leetcode](https://leetcode.com/problems/minimum-window-substring/)\n",
    "\n",
    "###  Minimum Window Substring"
   ]
  },
  {
   "cell_type": "code",
   "execution_count": 6,
   "metadata": {},
   "outputs": [],
   "source": [
    "class Solution(object):\n",
    "    def minWindow(self, s, t):\n",
    "        \"\"\"\n",
    "        :type s: str\n",
    "        :type t: str\n",
    "        :rtype: str\n",
    "        \"\"\"\n",
    "        map = {}\n",
    "        for i in t:\n",
    "            map[i] = map.get(i, 0) + 1\n",
    "        i = j = 0\n",
    "        count = len(t)\n",
    "        rescount = len(s)\n",
    "        res = ''\n",
    "        while j < len(s):\n",
    "            map[s[j]] = map.get(s[j], 0) - 1\n",
    "            if map[s[j]] >= 0: count -= 1\n",
    "            j += 1\n",
    "            while count == 0: \n",
    "                if j - i <= rescount:\n",
    "                    rescount = j - i\n",
    "                    res = s[i:j]\n",
    "                map[s[i]] += 1\n",
    "                if map[s[i]] >= 1: count += 1\n",
    "                i += 1\n",
    "        return res"
   ]
  },
  {
   "cell_type": "markdown",
   "metadata": {},
   "source": [
    "# 159\n",
    "\n",
    "[Leetcode](https://leetcode.com/problems/longest-substring-with-at-most-two-distinct-characters/)\n",
    "###  Longest Substring with At Most Two Distinct Characters"
   ]
  },
  {
   "cell_type": "code",
   "execution_count": 8,
   "metadata": {},
   "outputs": [],
   "source": [
    "class Solution(object):\n",
    "    def lengthOfLongestSubstringTwoDistinct(self, s):\n",
    "        \"\"\"\n",
    "        :type s: str\n",
    "        :rtype: int\n",
    "        \"\"\"\n",
    "        map = {}\n",
    "        i = j = 0\n",
    "        count = 0\n",
    "        res = 0\n",
    "        while j < len(s):\n",
    "            map[s[j]] = map.get(s[j], 0) + 1\n",
    "            if map[s[j]] == 1: count += 1\n",
    "            j += 1\n",
    "            if count <= 2: res = max(res, j - i)\n",
    "            while count > 2: \n",
    "                map[s[i]] -= 1\n",
    "                if map[s[i]] == 0: count -= 1\n",
    "                i += 1\n",
    "        return res"
   ]
  },
  {
   "cell_type": "markdown",
   "metadata": {},
   "source": [
    "# 904\n",
    "\n",
    "[Leetcode](https://leetcode.com/problems/fruit-into-baskets/)\n",
    "### Fruit Into Baskets"
   ]
  },
  {
   "cell_type": "code",
   "execution_count": 11,
   "metadata": {},
   "outputs": [],
   "source": [
    "class Solution(object):\n",
    "    def totalFruit(self, tree):\n",
    "        \"\"\"\n",
    "        :type tree: List[int]\n",
    "        :rtype: int\n",
    "        \"\"\"\n",
    "        ma\n",
    "        count = 0\n",
    "        sum = 0\n",
    "        res = 0\n",
    "        while j < len(tree):\n",
    "            map[tree[j]] = map.get(tree[j], 0) + 1\n",
    "            if map[tree[j]] == 1: count += 1\n",
    "            sum += tree[j]\n",
    "            j += 1\n",
    "            while count > 2:\n",
    "                map[tree[i]] -= 1\n",
    "                if map[tree[i]] == 0: count -= 1\n",
    "                i += 1\n",
    "            res = max(res, j - i)\n",
    "        return res"
   ]
  },
  {
   "cell_type": "markdown",
   "metadata": {},
   "source": [
    "# 1234\n",
    "[Leetcode](https://leetcode.com/problems/replace-the-substring-for-balanced-string/)\n",
    "\n",
    "### Replace the Substring for Balanced String\n",
    "\n",
    "- 记录窗口外的情况"
   ]
  },
  {
   "cell_type": "code",
   "execution_count": 12,
   "metadata": {},
   "outputs": [],
   "source": [
    "class Solution(object):\n",
    "    def balancedString(self, s):\n",
    "        \"\"\"\n",
    "        :type s: str\n",
    "        :rtype: int\n",
    "        \"\"\"\n",
    "        count = collections.Counter(s)\n",
    "        res = n = len(s)\n",
    "        i = 0\n",
    "        for j, c in enumerate(s):\n",
    "            count[c] -= 1\n",
    "            while i < n and all(n / 4 >= count[c] for c in 'QWER'):\n",
    "                res = min(res, j - i + 1)\n",
    "                count[s[i]] += 1\n",
    "                i += 1\n",
    "        return res  "
   ]
  },
  {
   "cell_type": "markdown",
   "metadata": {},
   "source": [
    "# 1156\n",
    "### Swap For Longest Repeated Character Substring\n",
    "[Leetcode](https://leetcode.com/problems/swap-for-longest-repeated-character-substring/)\n",
    "\n",
    "- 用一个inner outer分别记录区间内和区间外的的情况\n",
    "- max——ch记录众数的情况\n",
    "- 要考虑两种情况：需要替换或者不需要替换"
   ]
  },
  {
   "cell_type": "code",
   "execution_count": null,
   "metadata": {},
   "outputs": [],
   "source": [
    "class Solution(object):\n",
    "    def maxRepOpt1(self, text):\n",
    "        \"\"\"\n",
    "        :type text: str\n",
    "        :rtype: int\n",
    "        \"\"\"\n",
    "#         a a b a bbbb\n",
    "        from collections import Counter\n",
    "        outer = Counter(text)\n",
    "        inner = {}\n",
    "        res = 0\n",
    "        max_ch, max_num = '', 0\n",
    "        i = j = 0\n",
    "        while j < len(text):\n",
    "            inner[text[j]] = inner.get(text[j], 0 ) + 1\n",
    "            if inner[text[j]] > max_num: max_ch, max_num = text[j], inner[text[j]]\n",
    "            j += 1\n",
    "            while j - i - max_num > 1:\n",
    "                inner[text[i]] -= 1\n",
    "                i += 1\n",
    "            res = max(res, min(j -i, outer[max_ch]))\n",
    "        return res"
   ]
  },
  {
   "cell_type": "markdown",
   "metadata": {},
   "source": [
    "# 424\n",
    "### Longest Repeating Character Replacement\n",
    "[Leetcode](https://leetcode.com/problems/longest-repeating-character-replacement/)"
   ]
  },
  {
   "cell_type": "code",
   "execution_count": null,
   "metadata": {},
   "outputs": [],
   "source": [
    "class Solution(object):\n",
    "    def characterReplacement(self, s, k):\n",
    "        \"\"\"\n",
    "        :type s: str\n",
    "        :type k: int\n",
    "        :rtype: int\n",
    "        \"\"\"\n",
    "        d = {}\n",
    "        count = 0\n",
    "        res = 0\n",
    "        major_len = 0\n",
    "        i = j = 0\n",
    "        while j < len(s):\n",
    "            d[s[j]] = d.get(s[j], 0) + 1\n",
    "            major_len = max(major_len, d[s[j]])\n",
    "            j += 1\n",
    "            while j-i-major_len > k:\n",
    "                d[s[i]] -= 1\n",
    "                i += 1\n",
    "            res = max(res, j-i)\n",
    "        return res"
   ]
  },
  {
   "cell_type": "markdown",
   "metadata": {},
   "source": [
    "# 1100\n",
    "### Find K-Length Substrings With No Repeated Characters\n",
    "[Leetcode](https://leetcode.com/problems/find-k-length-substrings-with-no-repeated-characters/)"
   ]
  },
  {
   "cell_type": "code",
   "execution_count": 23,
   "metadata": {},
   "outputs": [],
   "source": [
    "class Solution(object):\n",
    "    def numKLenSubstrNoRepeats(self, S, K):\n",
    "        \"\"\"\n",
    "        :type S: str\n",
    "        :type K: int\n",
    "        :rtype: int\n",
    "        \"\"\"\n",
    "        d = {} \n",
    "        i = j = 0\n",
    "        count = 0 \n",
    "        while j < len(S):\n",
    "            d[S[j]] = d.get(S[j], 0) + 1\n",
    "            j += 1\n",
    "            if len(d) < j - i or j - i > K:\n",
    "                d[S[i]] -= 1\n",
    "                if d[S[i]] == 0: del d[S[i]]\n",
    "                i += 1\n",
    "            if len(d) == K == j - i: count += 1\n",
    "            # print(d, S[i], S[j], count)\n",
    "            # print(i, j)\n",
    "        return count"
   ]
  },
  {
   "cell_type": "markdown",
   "metadata": {},
   "source": [
    "# 992\n",
    "### Subarrays with K Different Integers\n",
    "[Leetcode](https://leetcode.com/problems/subarrays-with-k-different-integers/)\n",
    "\n",
    "1. exact k = (at most k) - (at most k-1)\n",
    "2. count += j - i，j的指针已经预先往后了一个\n",
    "\n"
   ]
  },
  {
   "cell_type": "code",
   "execution_count": 24,
   "metadata": {},
   "outputs": [],
   "source": [
    "\n",
    "# 0  1  2  3  4  5\n",
    "# i:0 j : 3\n",
    "# 0,1,2,3\n",
    "# 1,2,3\n",
    "# 2,3\n",
    "# 3\n"
   ]
  },
  {
   "cell_type": "code",
   "execution_count": null,
   "metadata": {},
   "outputs": [],
   "source": [
    "class Solution(object):\n",
    "    def subarraysWithKDistinct(self, A, K):\n",
    "        \"\"\"\n",
    "        :type A: List[int]\n",
    "        :type K: int\n",
    "        :rtype: int\n",
    "        \"\"\"\n",
    "        # return self.helper(A, K) - self.helper(A, K-1) \n",
    "        return self.helper(A, K) - self.helper(A, K - 1)\n",
    "        \n",
    "    def helper(self, A, K):\n",
    "        count = 0\n",
    "        i = j = 0\n",
    "        d = {}\n",
    "        while j < len(A):\n",
    "            d[A[j]] = d.get(A[j], 0) + 1\n",
    "            j += 1\n",
    "            while i < j and len(d) > K:\n",
    "                d[A[i]] -= 1\n",
    "                if d[A[i]] == 0: del d[A[i]]\n",
    "                i += 1\n",
    "            count += j - i\n",
    "        return count"
   ]
  },
  {
   "cell_type": "markdown",
   "metadata": {},
   "source": [
    "# 1052\n",
    "[Leetcode](https://leetcode.com/problems/grumpy-bookstore-owner/)\n",
    "### Grumpy Bookstore Owner"
   ]
  },
  {
   "cell_type": "code",
   "execution_count": 13,
   "metadata": {},
   "outputs": [],
   "source": [
    "class Solution(object):\n",
    "    def maxSatisfied(self, customers, grumpy, X):\n",
    "        \"\"\"\n",
    "        :type customers: List[int]\n",
    "        :type grumpy: List[int]\n",
    "        :type X: int\n",
    "        :rtype: int\n",
    "        \"\"\"\n",
    "        total = 0\n",
    "        for i, j in zip(customers, grumpy):\n",
    "            if j == 0: total += i\n",
    "        i = j = 0\n",
    "        res =  0\n",
    "        while j < len(customers):\n",
    "            if grumpy[j] == 1: total += customers[j]\n",
    "            j += 1\n",
    "            res = max(res, total)\n",
    "            if j - i >= X:\n",
    "                if grumpy[i] == 1: total -= customers[i]\n",
    "                i += 1\n",
    "        return res\n"
   ]
  },
  {
   "cell_type": "markdown",
   "metadata": {},
   "source": [
    "# 1004\n",
    "[Leetcode](https://leetcode.com/problems/max-consecutive-ones-iii/)\n",
    "### Max Consecutive Ones III"
   ]
  },
  {
   "cell_type": "code",
   "execution_count": 14,
   "metadata": {},
   "outputs": [],
   "source": [
    "class Solution(object):\n",
    "    def longestOnes(self, A, K):\n",
    "        \"\"\"\n",
    "        :type A: List[int]\n",
    "        :type K: int\n",
    "        :rtype: int\n",
    "        \"\"\"\n",
    "        i = j = 0\n",
    "        count = 0\n",
    "        res = 0\n",
    "        while j < len(A):\n",
    "            if A[j] == 0: count += 1\n",
    "            j += 1\n",
    "            if count <= K: res = max(res, j - i)\n",
    "            while count > K:\n",
    "                if A[i] == 0: count -= 1\n",
    "                i += 1\n",
    "        return res"
   ]
  },
  {
   "cell_type": "markdown",
   "metadata": {},
   "source": [
    "# 925\n",
    "[Leetcode](https://leetcode.com/problems/long-pressed-name/)\n",
    "\n",
    "### Long Pressed Name"
   ]
  },
  {
   "cell_type": "code",
   "execution_count": 15,
   "metadata": {},
   "outputs": [],
   "source": [
    "class Solution(object):\n",
    "    def isLongPressedName(self, name, typed):\n",
    "        \"\"\"\n",
    "        :type name: str\n",
    "        :type typed: str\n",
    "        :rtype: bool\n",
    "        \"\"\"\n",
    "        i = 0\n",
    "        for j in range(len(typed)):\n",
    "            if i < len(name) and name[i] == typed[j]:\n",
    "                i += 1\n",
    "            elif j == 0 or typed[j] != typed[j - 1]:\n",
    "                return False\n",
    "        return i == len(name)"
   ]
  },
  {
   "cell_type": "markdown",
   "metadata": {},
   "source": [
    "# 1213\n",
    "[Leetcode](https://leetcode.com/problems/intersection-of-three-sorted-arrays/)\n",
    "### Intersection of Three Sorted Arrays"
   ]
  },
  {
   "cell_type": "code",
   "execution_count": 16,
   "metadata": {},
   "outputs": [],
   "source": [
    "class Solution(object):\n",
    "    def arraysIntersection(self, arr1, arr2, arr3):\n",
    "        \"\"\"\n",
    "        :type arr1: List[int]\n",
    "        :type arr2: List[int]\n",
    "        :type arr3: List[int]\n",
    "        :rtype: List[int]\n",
    "        \"\"\"\n",
    "        i = j = k = 0\n",
    "        res = []\n",
    "        while i < len(arr1) and j <len(arr2) and k < len(arr3):\n",
    "            if arr1[i] == arr2[j] == arr3[k]:\n",
    "                res.append(arr1[i])\n",
    "                i += 1\n",
    "                j += 1\n",
    "                k += 1\n",
    "            elif min(arr1[i], arr2[j], arr3[k]) == arr1[i]: i += 1\n",
    "            elif min(arr1[i], arr2[j], arr3[k]) == arr2[j]: j += 1\n",
    "            elif min(arr1[i], arr2[j], arr3[k]) == arr3[k]: k += 1\n",
    "        return res\n",
    "        "
   ]
  },
  {
   "cell_type": "markdown",
   "metadata": {},
   "source": [
    "Maximum Product Subarray"
   ]
  },
  {
   "cell_type": "code",
   "execution_count": 17,
   "metadata": {},
   "outputs": [],
   "source": [
    "class Solution(object):\n",
    "    def maxProduct(self, A):\n",
    "        \"\"\"\n",
    "        :type nums: List[int]\n",
    "        :rtype: int\n",
    "        \"\"\"\n",
    "        B = A[::-1]\n",
    "        for i in range(1, len(A)):\n",
    "            A[i] *= A[i - 1] or 1\n",
    "            B[i] *= B[i - 1] or 1\n",
    "        return max(A + B)        \n",
    "        "
   ]
  },
  {
   "cell_type": "markdown",
   "metadata": {},
   "source": [
    "# 442\n",
    "[Leetcode](https://leetcode.com/problems/find-all-duplicates-in-an-array/)\n",
    "### Find All Duplicates in an Array\n",
    "\n",
    "用-1给index做标记"
   ]
  },
  {
   "cell_type": "code",
   "execution_count": 19,
   "metadata": {},
   "outputs": [],
   "source": [
    "class Solution(object):\n",
    "    def findDuplicates(self, nums):\n",
    "        \"\"\"\n",
    "        :type nums: List[int]\n",
    "        :rtype: List[int]\n",
    "        \"\"\"\n",
    "        res = []\n",
    "        for x in nums:\n",
    "            if nums[abs(x) - 1] < 0:\n",
    "                res.append(abs(x))\n",
    "            else:\n",
    "                nums[abs(x) - 1] *= -1\n",
    "        return res"
   ]
  },
  {
   "cell_type": "markdown",
   "metadata": {},
   "source": [
    "# 448\n",
    "### Find All Numbers Disappeared in an Array\n",
    "[Leetcode](https://leetcode.com/problems/find-all-numbers-disappeared-in-an-array/)"
   ]
  },
  {
   "cell_type": "code",
   "execution_count": 7,
   "metadata": {},
   "outputs": [],
   "source": [
    "class Solution(object):\n",
    "    def findDisappearedNumbers(self, nums):\n",
    "        \"\"\"\n",
    "        :type nums: List[int]\n",
    "        :rtype: List[int]\n",
    "        \"\"\"\n",
    "        for i in xrange(len(nums)):\n",
    "            index = abs(nums[i]) - 1\n",
    "            nums[index] = - abs(nums[index])\n",
    "        return [i + 1 for i in range(len(nums)) if nums[i] > 0]\n",
    "       "
   ]
  },
  {
   "cell_type": "markdown",
   "metadata": {},
   "source": [
    "# 55\n",
    "[Leetcode](https://leetcode.com/problems/jump-game/)\n",
    "### Jump Game"
   ]
  },
  {
   "cell_type": "code",
   "execution_count": 1,
   "metadata": {},
   "outputs": [],
   "source": [
    "class Solution(object):\n",
    "    def canJump(self, nums):\n",
    "        \"\"\"\n",
    "        :type nums: List[int]\n",
    "        :rtype: bool\n",
    "        \"\"\"\n",
    "        m = 0\n",
    "        for i, n in enumerate(nums):\n",
    "            if i > m:\n",
    "                return False\n",
    "            m = max(m, i+n)\n",
    "        return True        "
   ]
  },
  {
   "cell_type": "markdown",
   "metadata": {},
   "source": [
    "# 125\n",
    "[Leetcode](https://leetcode.com/problems/valid-palindrome/)\n",
    "# Valid Palindrome"
   ]
  },
  {
   "cell_type": "code",
   "execution_count": 2,
   "metadata": {},
   "outputs": [],
   "source": [
    "class Solution(object):\n",
    "    def isPalindrome(self, s):\n",
    "        \"\"\"\n",
    "        :type s: str\n",
    "        :rtype: bool\n",
    "        \"\"\"\n",
    "        i, j = 0, len(s) - 1\n",
    "        while i < j:\n",
    "            while i < j and not s[i].isalnum():\n",
    "                i += 1\n",
    "            while i < j and not s[j].isalnum():\n",
    "                j -= 1\n",
    "            if s[i].lower()!= s[j].lower(): \n",
    "                return False\n",
    "            i += 1\n",
    "            j -=1\n",
    "        return True"
   ]
  },
  {
   "cell_type": "markdown",
   "metadata": {},
   "source": [
    "# 896\n",
    "### Monotonic Array\n",
    "[Leetcode](https://leetcode.com/problems/monotonic-array/)"
   ]
  },
  {
   "cell_type": "code",
   "execution_count": 2,
   "metadata": {},
   "outputs": [],
   "source": [
    "class Solution(object):\n",
    "    def isMonotonic(self, A):\n",
    "        \"\"\"\n",
    "        :type A: List[int]\n",
    "        :rtype: bool\n",
    "        \"\"\"\n",
    "        last = A[0]\n",
    "        increasing = decreasing = True\n",
    "        for i in A[1:]:\n",
    "            if last > i: increasing = False\n",
    "            if last < i: decreasing = False\n",
    "            if not (increasing or decreasing): return False\n",
    "            last = i\n",
    "        return True\n",
    "        "
   ]
  },
  {
   "cell_type": "markdown",
   "metadata": {},
   "source": [
    "# 1512\n",
    "### Number of Good Pairs\n",
    "[Leetcode](https://leetcode.com/problems/number-of-good-pairs/)"
   ]
  },
  {
   "cell_type": "code",
   "execution_count": 1,
   "metadata": {},
   "outputs": [],
   "source": [
    "class Solution(object):\n",
    "    def numIdenticalPairs(self, nums):\n",
    "        \"\"\"\n",
    "        :type nums: List[int]\n",
    "        :rtype: int\n",
    "        \"\"\"\n",
    "        d = {}\n",
    "        for i in nums:\n",
    "            d[i] = d.get(i, 0) + 1\n",
    "        res = 0\n",
    "        for k, v in d.items():\n",
    "            res += (v-1) * v / 2\n",
    "        return res"
   ]
  },
  {
   "cell_type": "markdown",
   "metadata": {},
   "source": [
    "# 763\n",
    "### Partition Labels\n",
    "[Leetcode](https://leetcode.com/problems/partition-labels/)"
   ]
  },
  {
   "cell_type": "code",
   "execution_count": 2,
   "metadata": {},
   "outputs": [],
   "source": [
    "class Solution(object):\n",
    "    def partitionLabels(self, S):\n",
    "        \"\"\"\n",
    "        :type S: str\n",
    "        :rtype: List[int]\n",
    "        \"\"\"\n",
    "        d = {}\n",
    "        for i in S:\n",
    "            d[i] = d.get(i, 0) + 1\n",
    "        i = j = 0\n",
    "        s = set()\n",
    "        res = []\n",
    "        t = set()\n",
    "        while j < len(S):\n",
    "            d[S[j]] -= 1\n",
    "            if d[S[j]] == 0: t.add(S[j])\n",
    "            s.add(S[j])\n",
    "            if len(s) == len(t): \n",
    "                res.append(j-i + 1)\n",
    "                s, t = set(), set()\n",
    "                i = j + 1\n",
    "            j += 1\n",
    "        return res\n",
    "            "
   ]
  },
  {
   "cell_type": "markdown",
   "metadata": {},
   "source": [
    "# 1041\n",
    "### Robot Bounded In Circle\n",
    "[Leetcode](https://leetcode.com/problems/robot-bounded-in-circle/)"
   ]
  },
  {
   "cell_type": "code",
   "execution_count": 4,
   "metadata": {},
   "outputs": [],
   "source": [
    "class Solution(object):\n",
    "    def isRobotBounded(self, instructions):\n",
    "        \"\"\"\n",
    "        :type instructions: str\n",
    "        :rtype: bool\n",
    "        \"\"\"\n",
    "        x, y = 0, 0\n",
    "        dx, dy = 0, 1\n",
    "        for i in instructions:\n",
    "            if i == 'G': x, y = x + dx, y + dy\n",
    "            elif i == 'L': dx, dy = -dy, dx\n",
    "            else: dx, dy = dy, -dx\n",
    "        return (x==0 and y==0) or (dx, dy) != (0,1)"
   ]
  },
  {
   "cell_type": "markdown",
   "metadata": {},
   "source": [
    "# 1658\n",
    "### Minimum Operations to Reduce X to Zero\n",
    "[Leetcode](https://leetcode.com/problems/minimum-operations-to-reduce-x-to-zero/)"
   ]
  },
  {
   "cell_type": "code",
   "execution_count": null,
   "metadata": {},
   "outputs": [],
   "source": [
    "class Solution(object):\n",
    "    def minOperations(self, nums, x):\n",
    "        \"\"\"\n",
    "        :type nums: List[int]\n",
    "        :type x: int\n",
    "        :rtype: int\n",
    "        \"\"\"\n",
    "        i, j = 0, 0\n",
    "        total = sum(nums)\n",
    "        count = 0\n",
    "        res = -1\n",
    "        while j < len(nums):\n",
    "            count += nums[j]\n",
    "            j += 1\n",
    "            while i < j and total - count < x:\n",
    "                count -= nums[i]\n",
    "                i += 1\n",
    "            if total - count == x:\n",
    "                res = max(res, j - i)\n",
    "            # print(i, j, count, x, res)\n",
    "        return len(nums) - res if res != -1 else -1\n",
    "            "
   ]
  },
  {
   "cell_type": "markdown",
   "metadata": {},
   "source": [
    "# 128\n",
    "### Longest Consecutive Sequence\n",
    "[Leetcode](https://leetcode.com/problems/longest-consecutive-sequence/)"
   ]
  },
  {
   "cell_type": "code",
   "execution_count": 5,
   "metadata": {},
   "outputs": [],
   "source": [
    "class Solution(object):\n",
    "    def longestConsecutive(self, nums):\n",
    "        \"\"\"\n",
    "        :type nums: List[int]\n",
    "        :rtype: int\n",
    "        \"\"\"\n",
    "        d = {}\n",
    "        for i in nums:\n",
    "            if i in d: continue\n",
    "            up = down = 0\n",
    "            if i + 1 in d: up += d[i+1]\n",
    "            if i - 1 in d: down += d[i-1]\n",
    "            d[i] = up + down + 1\n",
    "            if i - 1 in d:d[i-d[i-1]] = d[i]\n",
    "            if i + 1 in d:d[i+d[i+1]] = d[i]\n",
    "        return max(d.values()) if d else 0"
   ]
  },
  {
   "cell_type": "markdown",
   "metadata": {},
   "source": [
    "# 977\n",
    "### Squares of a Sorted Array\n",
    "[Leetcode](https://leetcode.com/problems/squares-of-a-sorted-array/)"
   ]
  },
  {
   "cell_type": "code",
   "execution_count": 6,
   "metadata": {},
   "outputs": [],
   "source": [
    "class Solution(object):\n",
    "    def sortedSquares(self, nums):\n",
    "        \"\"\"\n",
    "        :type nums: List[int]\n",
    "        :rtype: List[int]\n",
    "        \"\"\"\n",
    "        res = []\n",
    "        n = len(nums)\n",
    "        j = 0\n",
    "        while j < n and nums[j] < 0:\n",
    "            j += 1\n",
    "        i = j - 1\n",
    "        while 0 <= i and j < n:\n",
    "            if nums[i] ** 2 < nums[j] ** 2:\n",
    "                res.append(nums[i] ** 2)\n",
    "                i -= 1\n",
    "            else:\n",
    "                res.append(nums[j] ** 2)\n",
    "                j += 1\n",
    "        while i >= 0:\n",
    "            res.append(nums[i] ** 2)\n",
    "            i -= 1\n",
    "        while j < n:\n",
    "            res.append(nums[j] ** 2)\n",
    "            j += 1\n",
    "        return res\n",
    "                "
   ]
  },
  {
   "cell_type": "markdown",
   "metadata": {},
   "source": [
    "# 680\n",
    "### Valid Palindrome II \n",
    "[Leetcode](https://leetcode.com/problems/valid-palindrome-ii/)"
   ]
  },
  {
   "cell_type": "code",
   "execution_count": 12,
   "metadata": {},
   "outputs": [],
   "source": [
    "class Solution(object):\n",
    "    def validPalindrome(self, s):\n",
    "        i = 0\n",
    "        while i < len(s) / 2 and s[i] == s[-(i + 1)]: i += 1\n",
    "        s = s[i:len(s) - i]\n",
    "        return s[1:] == s[1:][::-1] or s[:-1] == s[:-1][::-1]"
   ]
  },
  {
   "cell_type": "markdown",
   "metadata": {},
   "source": [
    "# 347\n",
    "### Top K Frequent Elements\n",
    "[Leetcode](https://leetcode.com/problems/top-k-frequent-elements/)"
   ]
  },
  {
   "cell_type": "code",
   "execution_count": 13,
   "metadata": {},
   "outputs": [],
   "source": [
    "class Solution(object):\n",
    "    def topKFrequent(self, nums, k):\n",
    "        \"\"\"\n",
    "        :type nums: List[int]\n",
    "        :type k: int\n",
    "        :rtype: List[int]\n",
    "        \"\"\"\n",
    "        import heapq\n",
    "        from collections import Counter\n",
    "        d = Counter(nums)\n",
    "        h = [(-v, key) for key, v in d.items()]\n",
    "        heapq.heapify(h)\n",
    "        res = []\n",
    "        for i in range(k):\n",
    "            key, val = heapq.heappop(h)\n",
    "            res.append(val)\n",
    "        return res"
   ]
  },
  {
   "cell_type": "markdown",
   "metadata": {},
   "source": [
    "# 49\n",
    "### Group Anagrams\n",
    "[Leetcode](https://leetcode.com/problems/group-anagrams/)"
   ]
  },
  {
   "cell_type": "code",
   "execution_count": 14,
   "metadata": {},
   "outputs": [],
   "source": [
    "class Solution(object):\n",
    "    def groupAnagrams(self, strs):\n",
    "        \"\"\"\n",
    "        :type strs: List[str]\n",
    "        :rtype: List[List[str]]\n",
    "        \"\"\"\n",
    "        from collections import defaultdict\n",
    "        d = defaultdict(list)\n",
    "        for str in strs:\n",
    "            s = tuple(sorted([i for i in str]))\n",
    "            d[s].append(str)\n",
    "        return [v for k, v in d.items()]\n",
    "            "
   ]
  },
  {
   "cell_type": "markdown",
   "metadata": {},
   "source": [
    "# 249\n",
    "### Group Shifted mStrings\n",
    "[Leetcode](https://leetcode.com/problems/group-shifted-strings/)"
   ]
  },
  {
   "cell_type": "code",
   "execution_count": null,
   "metadata": {},
   "outputs": [],
   "source": [
    "class Solution(object):\n",
    "    def groupStrings(self, strings):\n",
    "        \"\"\"\n",
    "        :type strings: List[str]\n",
    "        :rtype: List[List[str]]\n",
    "        \"\"\"\n",
    "        def shift(str):\n",
    "            res = [ord(i) - ord('a') for i in str]\n",
    "            diff = 26 - res[0]\n",
    "            shift = [i+diff if 0 < i + diff <= 26 else i + diff - 26 for i in res]\n",
    "            return ''.join([chr(i + ord('a')) for i in shift])\n",
    "            \n",
    "        \n",
    "        from collections import defaultdict\n",
    "        d = defaultdict(list)\n",
    "        for s in strings:\n",
    "            shifted = shift(s)\n",
    "            d[shifted].append(s)\n",
    "        return [v for k, v in d.items()]\n",
    "        \n",
    "        \n",
    "        \n",
    "        "
   ]
  },
  {
   "cell_type": "markdown",
   "metadata": {},
   "source": [
    "# 406\n",
    "### Queue Reconstruction by Height\n",
    "[Leetcode](https://leetcode.com/problems/queue-reconstruction-by-height/)"
   ]
  },
  {
   "cell_type": "code",
   "execution_count": 15,
   "metadata": {},
   "outputs": [],
   "source": [
    "class Solution(object):\n",
    "    def reconstructQueue(self, people):\n",
    "        \"\"\"\n",
    "        :type people: List[List[int]]\n",
    "        :rtype: List[List[int]]\n",
    "        \"\"\"\n",
    "        people = sorted(people, key = lambda x: (-x[0], x[1]))\n",
    "        res = []\n",
    "        for p in people:\n",
    "            res.insert(p[1], p)\n",
    "        return res"
   ]
  },
  {
   "cell_type": "markdown",
   "metadata": {},
   "source": [
    "# 215\n",
    "### Kth Largest Element in an Array\n",
    "[Leetcode](https://leetcode.com/problems/kth-largest-element-in-an-array/)"
   ]
  },
  {
   "cell_type": "code",
   "execution_count": 16,
   "metadata": {},
   "outputs": [],
   "source": [
    "class Solution(object):\n",
    "    def findKthLargest(self, nums, k):\n",
    "        \"\"\"\n",
    "        :type nums: List[int]\n",
    "        :type k: int\n",
    "        :rtype: int\n",
    "        \"\"\"\n",
    "        def partition(nums, left, right):\n",
    "            p = nums[left]\n",
    "            i = left + 1\n",
    "            for j in range(i, right + 1):\n",
    "                if nums[j] < p:\n",
    "                    nums[j], nums[i] = nums[i], nums[j]\n",
    "                    i += 1\n",
    "            nums[left], nums[i - 1] = nums[i-1],nums[left]\n",
    "            return i - 1\n",
    "            \n",
    "        def findk(nums, left, right, k):\n",
    "            if left == right: return nums[left]\n",
    "            if left < right:\n",
    "                pivot = partition(nums, left, right)\n",
    "                if pivot < k:\n",
    "                    return findk(nums,pivot + 1, right, k)\n",
    "                elif pivot > k:\n",
    "                    return findk(nums, left, pivot - 1, k)\n",
    "                else:\n",
    "                    print(nums, pivot, k)\n",
    "                    return nums[pivot] \n",
    "        \n",
    "        if len(nums) < k: return \n",
    "        return findk(nums, 0, len(nums)-1, len(nums)-k)"
   ]
  },
  {
   "cell_type": "markdown",
   "metadata": {},
   "source": [
    "# 581\n",
    "### Shortest Unsorted Continuous Subarray\n",
    "[Leetcode](https://leetcode.com/problems/shortest-unsorted-continuous-subarray/)\n"
   ]
  },
  {
   "cell_type": "code",
   "execution_count": 18,
   "metadata": {},
   "outputs": [],
   "source": [
    "class Solution(object):\n",
    "    def findUnsortedSubarray(self, nums):\n",
    "        \"\"\"\n",
    "        :type nums: List[int]\n",
    "        :rtype: int\n",
    "        \"\"\"\n",
    "        mmax, mmin = nums[0], nums[-1]\n",
    "        start = end = float('inf')\n",
    "        i, j = 0, len(nums) - 1\n",
    "        while i < len(nums):\n",
    "            mmax = max(nums[i], mmax)\n",
    "            if mmax > nums[i]: end = i\n",
    "            i += 1\n",
    "        while 0 <= j:\n",
    "            mmin = min(nums[j], mmin)\n",
    "            if mmin < nums[j]: start = j\n",
    "            j -= 1\n",
    "        return end - start + 1 if start != float('inf') else 0"
   ]
  },
  {
   "cell_type": "markdown",
   "metadata": {},
   "source": [
    "# 1423\n",
    "### Maximum Points You Can Obtain from Cards\n",
    "[Leetcode](https://leetcode.com/problems/maximum-points-you-can-obtain-from-cards/)"
   ]
  },
  {
   "cell_type": "code",
   "execution_count": null,
   "metadata": {},
   "outputs": [],
   "source": [
    "class Solution(object):\n",
    "    def maxScore(self, cardPoints, k):\n",
    "        \"\"\"\n",
    "        :type cardPoints: List[int]\n",
    "        :type k: int\n",
    "        :rtype: int\n",
    "        \"\"\"\n",
    "        res = float('inf')\n",
    "        count = 0\n",
    "        i = j = 0\n",
    "        while j < len(cardPoints):\n",
    "            count += cardPoints[j]\n",
    "            j += 1\n",
    "            if j - i > len(cardPoints) - k:\n",
    "                count -= cardPoints[i]\n",
    "                i += 1\n",
    "            if j - i == len(cardPoints) - k: res = min(res, count)\n",
    "        return sum(cardPoints) - res  \n",
    "        \n",
    "            \n",
    "        "
   ]
  },
  {
   "cell_type": "markdown",
   "metadata": {},
   "source": [
    "# 209\n",
    "### Minimum Size Subarray Sum\n",
    "[Leetcode](https://leetcode.com/problems/minimum-size-subarray-sum/)"
   ]
  },
  {
   "cell_type": "code",
   "execution_count": 19,
   "metadata": {},
   "outputs": [],
   "source": [
    "class Solution(object):\n",
    "    def minSubArrayLen(self, s, nums):\n",
    "        \"\"\"\n",
    "        :type s: int\n",
    "        :type nums: List[int]\n",
    "        :rtype: int\n",
    "        \"\"\"\n",
    "        i, res, total = 0, len(nums) + 1, 0\n",
    "        for j in xrange(len(nums)):\n",
    "            total += nums[j]\n",
    "            while total >= s:\n",
    "                res = min(res, j - i + 1)\n",
    "                total -= nums[i]\n",
    "                i += 1\n",
    "        return res % (len(nums) + 1)\n",
    "                "
   ]
  },
  {
   "cell_type": "markdown",
   "metadata": {},
   "source": [
    "# 881\n",
    "### Boats to Save People\n",
    "[Leetcode](https://leetcode.com/problems/boats-to-save-people/)"
   ]
  },
  {
   "cell_type": "code",
   "execution_count": 21,
   "metadata": {},
   "outputs": [],
   "source": [
    "class Solution(object):\n",
    "    def numRescueBoats(self, people, limit):\n",
    "        \"\"\"\n",
    "        :type people: List[int]\n",
    "        :type limit: int\n",
    "        :rtype: int\n",
    "        \"\"\"\n",
    "        people.sort(reverse=True)\n",
    "        i, j = 0, len(people) - 1\n",
    "        while i <= j:\n",
    "            if people[i] + people[j] <= limit: j -= 1\n",
    "            i += 1\n",
    "        return i"
   ]
  },
  {
   "cell_type": "markdown",
   "metadata": {},
   "source": [
    "# 36\n",
    "### Valid Sudoku\n",
    "[Leetcode](https://leetcode.com/problems/valid-sudoku/)"
   ]
  },
  {
   "cell_type": "code",
   "execution_count": 25,
   "metadata": {},
   "outputs": [],
   "source": [
    "class Solution(object):\n",
    "    def isValidSudoku(self, board):\n",
    "        \"\"\"\n",
    "        :type board: List[List[str]]\n",
    "        :rtype: bool\n",
    "        \"\"\"\n",
    "        m, n = len(board), len(board[0])\n",
    "        for j in range(n):\n",
    "            s = [board[i][j] for i in range(m) if board[i][j] != '.']\n",
    "            if len(s) != len(set(s)): return False\n",
    "        for i in range(m):\n",
    "            s = [board[i][j] for j in range(n) if board[i][j] != '.']\n",
    "            if len(s) != len(set(s)): return False\n",
    "        for i in range(m):\n",
    "            for j in range(n):\n",
    "                if i % 3 == 0 and j % 3 == 0:\n",
    "                    s = [board[x][y] for x in range(i, i+3) for y in range(j, j+3) if board[x][y] != '.']\n",
    "                    if len(s) != len(set(s)): return False\n",
    "        return True"
   ]
  },
  {
   "cell_type": "markdown",
   "metadata": {},
   "source": [
    "# 239\n",
    "### Sliding Window Maximum\n",
    "[Leecode](https://leetcode.com/problems/sliding-window-maximum/)"
   ]
  },
  {
   "cell_type": "code",
   "execution_count": 27,
   "metadata": {},
   "outputs": [],
   "source": [
    "class Solution(object):\n",
    "    def maxSlidingWindow(self, nums, k):\n",
    "        \"\"\"\n",
    "        :type nums: List[int]\n",
    "        :type k: int\n",
    "        :rtype: List[int]\n",
    "        \"\"\"\n",
    "        n = len(nums)\n",
    "        if len == 0: return []\n",
    "        if k == 0: return nums\n",
    "        deque = collections.deque()\n",
    "        res =[]\n",
    "        for i in range(0, n):\n",
    "            if i < k-1:\n",
    "                while deque and deque[-1] < nums[i]: deque.pop()\n",
    "                deque.append(nums[i])\n",
    "            else:\n",
    "                while deque and deque[-1] < nums[i]:deque.pop()\n",
    "                deque.append(nums[i])\n",
    "                res.append(deque[0])\n",
    "                if deque[0] == nums[i-k+1]:deque.popleft()\n",
    "        return res"
   ]
  },
  {
   "cell_type": "markdown",
   "metadata": {},
   "source": [
    "# 767\n",
    "### Reorganize String\n",
    "[Leetcode](https://leetcode.com/problems/reorganize-string/)\n",
    "\n",
    "- 使用heapq能够帮助形成greedy的机制"
   ]
  },
  {
   "cell_type": "code",
   "execution_count": 28,
   "metadata": {},
   "outputs": [],
   "source": [
    "class Solution(object):\n",
    "    def reorganizeString(self, S):\n",
    "        \"\"\"\n",
    "        :type S: str\n",
    "        :rtype: str\n",
    "        \"\"\"\n",
    "        from collections import Counter\n",
    "        import heapq\n",
    "        d = Counter(S)\n",
    "        h = [(-v, k)for k, v in d.items()] \n",
    "        res = ''\n",
    "        heapq.heapify(h)\n",
    "        while len(h) > 1:\n",
    "            v1, k1 = heapq.heappop(h)\n",
    "            v2, k2 = heapq.heappop(h)\n",
    "            res += k1 + k2\n",
    "            if v1 + 1!= 0: heapq.heappush(h, (v1+1, k1))\n",
    "            if v2 + 1!= 0: heapq.heappush(h, (v2+1, k2))  \n",
    "        if len(h) == 0: return res\n",
    "        else:\n",
    "            v1, k1 = heapq.heappop(h)\n",
    "            if v1 == -1: return res + k1\n",
    "            else: return ''"
   ]
  },
  {
   "cell_type": "markdown",
   "metadata": {},
   "source": [
    "# 621\n",
    "### Task Scheduler\n",
    "[Leetcode](https://leetcode.com/problems/task-scheduler/)"
   ]
  },
  {
   "cell_type": "code",
   "execution_count": 29,
   "metadata": {},
   "outputs": [],
   "source": [
    "class Solution(object):\n",
    "    def leastInterval(self, tasks, n):\n",
    "        \"\"\"\n",
    "        :type tasks: List[str]\n",
    "        :type n: int\n",
    "        :rtype: int\n",
    "        \"\"\"\n",
    "        from collections import Counter\n",
    "        import heapq\n",
    "        d = Counter(tasks)\n",
    "        h = [(-v, k) for k, v in d.items()]\n",
    "        heapq.heapify(h)\n",
    "        count = 0\n",
    "        print(h)\n",
    "        while len(h) > 0:\n",
    "            num_ls = []\n",
    "            count_ls = []\n",
    "            for _ in range(n+1):\n",
    "                if len(h) > 0:\n",
    "                    v, k = heapq.heappop(h)\n",
    "                    num_ls.append(k)\n",
    "                    count_ls.append(v + 1)\n",
    "                else: count += 1\n",
    "            if sum(count_ls) == 0: count -= n +1 - len(num_ls)\n",
    "            for i, j in zip(num_ls, count_ls):\n",
    "                if j!=0: heapq.heappush(h, (j, i))\n",
    "        return len(tasks) + count\n"
   ]
  },
  {
   "cell_type": "markdown",
   "metadata": {},
   "source": [
    "# 670\n",
    "### Maximum Swap\n",
    "[Leetcode](https://leetcode.com/problems/maximum-swap/)"
   ]
  },
  {
   "cell_type": "code",
   "execution_count": 31,
   "metadata": {},
   "outputs": [
    {
     "ename": "NameError",
     "evalue": "name 'num' is not defined",
     "output_type": "error",
     "traceback": [
      "\u001b[0;31m---------------------------------------------------------------------------\u001b[0m",
      "\u001b[0;31mNameError\u001b[0m                                 Traceback (most recent call last)",
      "\u001b[0;32m<ipython-input-31-a5b5fae0872a>\u001b[0m in \u001b[0;36m<module>\u001b[0;34m\u001b[0m\n\u001b[0;32m----> 1\u001b[0;31m \u001b[0mA\u001b[0m \u001b[0;34m=\u001b[0m \u001b[0mmap\u001b[0m\u001b[0;34m(\u001b[0m\u001b[0mint\u001b[0m\u001b[0;34m,\u001b[0m \u001b[0mstr\u001b[0m\u001b[0;34m(\u001b[0m\u001b[0mnum\u001b[0m\u001b[0;34m)\u001b[0m\u001b[0;34m)\u001b[0m\u001b[0;34m\u001b[0m\u001b[0;34m\u001b[0m\u001b[0m\n\u001b[0m\u001b[1;32m      2\u001b[0m \u001b[0mlast\u001b[0m \u001b[0;34m=\u001b[0m \u001b[0;34m{\u001b[0m\u001b[0mx\u001b[0m\u001b[0;34m:\u001b[0m \u001b[0mi\u001b[0m \u001b[0;32mfor\u001b[0m \u001b[0mi\u001b[0m\u001b[0;34m,\u001b[0m \u001b[0mx\u001b[0m \u001b[0;32min\u001b[0m \u001b[0menumerate\u001b[0m\u001b[0;34m(\u001b[0m\u001b[0mA\u001b[0m\u001b[0;34m)\u001b[0m\u001b[0;34m}\u001b[0m\u001b[0;34m\u001b[0m\u001b[0;34m\u001b[0m\u001b[0m\n\u001b[1;32m      3\u001b[0m \u001b[0;32mfor\u001b[0m \u001b[0mi\u001b[0m\u001b[0;34m,\u001b[0m \u001b[0mx\u001b[0m \u001b[0;32min\u001b[0m \u001b[0menumerate\u001b[0m\u001b[0;34m(\u001b[0m\u001b[0mA\u001b[0m\u001b[0;34m)\u001b[0m\u001b[0;34m:\u001b[0m\u001b[0;34m\u001b[0m\u001b[0;34m\u001b[0m\u001b[0m\n\u001b[1;32m      4\u001b[0m     \u001b[0;32mfor\u001b[0m \u001b[0md\u001b[0m \u001b[0;32min\u001b[0m \u001b[0mxrange\u001b[0m\u001b[0;34m(\u001b[0m\u001b[0;36m9\u001b[0m\u001b[0;34m,\u001b[0m \u001b[0mx\u001b[0m\u001b[0;34m,\u001b[0m \u001b[0;34m-\u001b[0m\u001b[0;36m1\u001b[0m\u001b[0;34m)\u001b[0m\u001b[0;34m:\u001b[0m\u001b[0;34m\u001b[0m\u001b[0;34m\u001b[0m\u001b[0m\n\u001b[1;32m      5\u001b[0m         \u001b[0;32mif\u001b[0m \u001b[0mlast\u001b[0m\u001b[0;34m.\u001b[0m\u001b[0mget\u001b[0m\u001b[0;34m(\u001b[0m\u001b[0md\u001b[0m\u001b[0;34m,\u001b[0m \u001b[0;32mNone\u001b[0m\u001b[0;34m)\u001b[0m \u001b[0;34m>\u001b[0m \u001b[0mi\u001b[0m\u001b[0;34m:\u001b[0m\u001b[0;34m\u001b[0m\u001b[0;34m\u001b[0m\u001b[0m\n",
      "\u001b[0;31mNameError\u001b[0m: name 'num' is not defined"
     ]
    }
   ],
   "source": [
    "A = map(int, str(num))\n",
    "last = {x: i for i, x in enumerate(A)}\n",
    "for i, x in enumerate(A):\n",
    "    for d in xrange(9, x, -1):\n",
    "        if last.get(d, None) > i:\n",
    "            A[i], A[last[d]] = A[last[d]], A[i]\n",
    "            return int(\"\".join(map(str, A)))\n",
    "return num"
   ]
  },
  {
   "cell_type": "markdown",
   "metadata": {},
   "source": [
    "# 1167\n",
    "### Minimum Cost to Connect Sticks\n",
    "[Leetcode](https://leetcode.com/problems/minimum-cost-to-connect-sticks/)"
   ]
  },
  {
   "cell_type": "code",
   "execution_count": 32,
   "metadata": {},
   "outputs": [],
   "source": [
    "class Solution(object):\n",
    "    def connectSticks(self, sticks):\n",
    "        \"\"\"\n",
    "        :type sticks: List[int]\n",
    "        :rtype: int\n",
    "        \"\"\"\n",
    "        import heapq\n",
    "        heapq.heapify(sticks)\n",
    "        res = 0\n",
    "        while len(sticks) > 1:\n",
    "            a = heapq.heappop(sticks)\n",
    "            b = heapq.heappop(sticks)\n",
    "            heapq.heappush(sticks, a+b)\n",
    "            res += a+b\n",
    "        return res\n",
    "        "
   ]
  },
  {
   "cell_type": "markdown",
   "metadata": {},
   "source": [
    "# 973\n",
    "### K Closest Points to Origin\n",
    "[Leetcode](https://leetcode.com/problems/k-closest-points-to-origin/)"
   ]
  },
  {
   "cell_type": "code",
   "execution_count": 33,
   "metadata": {},
   "outputs": [],
   "source": [
    "class Solution(object):\n",
    "    def kClosest(self, points, K):\n",
    "        \"\"\"\n",
    "        :type points: List[List[int]]\n",
    "        :type K: int\n",
    "        :rtype: List[List[int]]\n",
    "        \"\"\"\n",
    "        for i in range(len(points)):\n",
    "            x, y = points[i]\n",
    "            points[i] = [x**2 +y** 2, x,y,]\n",
    "        heapq.heapify(points)\n",
    "        return [heapq.heappop(points)[1:] for _ in range(K)]\n",
    "            "
   ]
  },
  {
   "cell_type": "markdown",
   "metadata": {},
   "source": [
    "# 289\n",
    "### Game of Life \n",
    "[Leetcode](https://leetcode.com/problems/game-of-life/)"
   ]
  },
  {
   "cell_type": "code",
   "execution_count": 35,
   "metadata": {},
   "outputs": [],
   "source": [
    "class Solution(object):\n",
    "    def gameOfLife(self, board):\n",
    "        \"\"\"\n",
    "        :type board: List[List[int]]\n",
    "        :rtype: None Do not return anything, modify board in-place instead.\n",
    "        \"\"\"\n",
    "        m, n = len(board), len(board[0])\n",
    "        for i in range(m):\n",
    "            for j in range(n):\n",
    "                count = 0\n",
    "                for dx,dy in [(1, 0),(-1, 0),(0, 1),(0, -1),(1, 1),(1, -1),(-1, 1),(-1, -1)]:\n",
    "                    if 0 <= i + dx < m and 0 <= j + dy < n:\n",
    "                        count += board[i + dx][j + dy] % 10\n",
    "                board[i][j] = count * 10 + board[i][j]\n",
    "        for i in range(m):\n",
    "            for j in range(n):\n",
    "                if board[i][j] % 10 == 0:\n",
    "                    if board[i][j] == 30: board[i][j] = 1\n",
    "                    else: board[i][j] = 0\n",
    "                else:\n",
    "                    if board[i][j] == 21 or board[i][j] == 31: board[i][j] = 1\n",
    "                    else: board[i][j] = 0\n",
    "        return board"
   ]
  },
  {
   "cell_type": "markdown",
   "metadata": {},
   "source": [
    "# 259\n",
    "### Find Median from Data Stream\n",
    "[Leetcode](https://leetcode.com/problems/find-median-from-data-stream/)"
   ]
  },
  {
   "cell_type": "code",
   "execution_count": 38,
   "metadata": {},
   "outputs": [],
   "source": [
    "from heapq import *\n",
    "class MedianFinder(object):\n",
    "\n",
    "    def __init__(self):\n",
    "        \"\"\"\n",
    "        initialize your data structure here.\n",
    "        \"\"\"\n",
    "        self.small = []\n",
    "        self.large = []\n",
    "\n",
    "    def addNum(self, num):\n",
    "        \"\"\"\n",
    "        :type num: int\n",
    "        :rtype: None\n",
    "        \"\"\"\n",
    "        if len(self.small) == len(self.large):\n",
    "            heappush(self.large, -heappushpop(self.small, -num))\n",
    "        else:\n",
    "            heappush(self.small, -heappushpop(self.large, num))\n",
    "\n",
    "    def findMedian(self):\n",
    "        \"\"\"\n",
    "        :rtype: float\n",
    "        \"\"\"\n",
    "        if len(self.small) == len(self.large):\n",
    "            return float(self.large[0] - self.small[0]) / 2.0\n",
    "        else: return self.large[0]\n",
    "\n",
    "# Your MedianFinder object will be instantiated and called as such:\n",
    "# obj = MedianFinder()\n",
    "# obj.addNum(num)\n",
    "# param_2 = obj.findMedian()"
   ]
  },
  {
   "cell_type": "markdown",
   "metadata": {},
   "source": [
    "# 1352\n",
    "### Product of the Last K Numbers\n",
    "[Leetcode](https://leetcode.com/problems/product-of-the-last-k-numbers/)\n",
    "\n",
    "重点： 对于0的情况应该重新清理"
   ]
  },
  {
   "cell_type": "code",
   "execution_count": 1,
   "metadata": {},
   "outputs": [],
   "source": [
    "class ProductOfNumbers(object):\n",
    "\n",
    "    def __init__(self):\n",
    "        self.q = [1]\n",
    "\n",
    "    def add(self, num):\n",
    "        \"\"\"\n",
    "        :type num: int\n",
    "        :rtype: None\n",
    "        \"\"\"\n",
    "        if num == 0: self.q = [1]\n",
    "        else: self.q.append(num * self.q[-1])\n",
    "\n",
    "    def getProduct(self, k):\n",
    "        \"\"\"\n",
    "        :type k: int\n",
    "        :rtype: int\n",
    "        \"\"\"\n",
    "        if k >= len(self.q): return 0\n",
    "        return self.q[-1] / self.q[-k-1]"
   ]
  },
  {
   "cell_type": "code",
   "execution_count": null,
   "metadata": {},
   "outputs": [],
   "source": []
  }
 ],
 "metadata": {
  "kernelspec": {
   "display_name": "Python 3",
   "language": "python",
   "name": "python3"
  },
  "language_info": {
   "codemirror_mode": {
    "name": "ipython",
    "version": 3
   },
   "file_extension": ".py",
   "mimetype": "text/x-python",
   "name": "python",
   "nbconvert_exporter": "python",
   "pygments_lexer": "ipython3",
   "version": "3.7.9"
  }
 },
 "nbformat": 4,
 "nbformat_minor": 2
}
